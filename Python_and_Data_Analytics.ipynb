{
  "nbformat": 4,
  "nbformat_minor": 0,
  "metadata": {
    "colab": {
      "provenance": [],
      "include_colab_link": true
    },
    "kernelspec": {
      "name": "python3",
      "display_name": "Python 3"
    },
    "language_info": {
      "name": "python"
    }
  },
  "cells": [
    {
      "cell_type": "markdown",
      "metadata": {
        "id": "view-in-github",
        "colab_type": "text"
      },
      "source": [
        "<a href=\"https://colab.research.google.com/github/mrdandelion6/python-data-analysis-suds/blob/main/Python_and_Data_Analytics.ipynb\" target=\"_parent\"><img src=\"https://colab.research.google.com/assets/colab-badge.svg\" alt=\"Open In Colab\"/></a>"
      ]
    },
    {
      "cell_type": "markdown",
      "source": [
        "# PYTHON AND DATA ANALYTICS\n",
        "\n"
      ],
      "metadata": {
        "id": "koXnGH5GgjaP"
      }
    },
    {
      "cell_type": "markdown",
      "source": [
        "###Working with modules\n",
        "\n",
        "Python comes with several modules built in. To use one, we import it. Normally, import statements go at the very top of the file -- we're only putting them in the middle here for teaching purposes"
      ],
      "metadata": {
        "id": "33rEYoX4FrEr"
      }
    },
    {
      "cell_type": "code",
      "source": [
        "import math\n"
      ],
      "metadata": {
        "id": "xBV4irGNFw9x"
      },
      "execution_count": null,
      "outputs": []
    },
    {
      "cell_type": "markdown",
      "source": [
        "When using code in a module, we first reference the module, follwed by a period, then the value or function being used.\n",
        "\n"
      ],
      "metadata": {
        "id": "Zl9V_eqSF3Vx"
      }
    },
    {
      "cell_type": "code",
      "source": [
        "math.pi"
      ],
      "metadata": {
        "id": "6XBUXRHMF3xw",
        "colab": {
          "base_uri": "https://localhost:8080/"
        },
        "outputId": "2c2712ea-8d26-4127-c756-e7e2a5a150cb"
      },
      "execution_count": null,
      "outputs": [
        {
          "output_type": "execute_result",
          "data": {
            "text/plain": [
              "3.141592653589793"
            ]
          },
          "metadata": {},
          "execution_count": 9
        }
      ]
    },
    {
      "cell_type": "markdown",
      "source": [
        "Not referencing the module produces an error.\n",
        "\n"
      ],
      "metadata": {
        "id": "eFonjW43GAAa"
      }
    },
    {
      "cell_type": "code",
      "source": [
        "pi"
      ],
      "metadata": {
        "id": "JSRSmbNOF9mB",
        "colab": {
          "base_uri": "https://localhost:8080/",
          "height": 162
        },
        "outputId": "b91bb4f2-c021-47c0-bf5c-627b2e5ed955"
      },
      "execution_count": null,
      "outputs": [
        {
          "output_type": "error",
          "ename": "NameError",
          "evalue": "name 'pi' is not defined",
          "traceback": [
            "\u001b[0;31m---------------------------------------------------------------------------\u001b[0m",
            "\u001b[0;31mNameError\u001b[0m                                 Traceback (most recent call last)",
            "\u001b[0;32m<ipython-input-10-f84ab820532c>\u001b[0m in \u001b[0;36m<cell line: 1>\u001b[0;34m()\u001b[0m\n\u001b[0;32m----> 1\u001b[0;31m \u001b[0mpi\u001b[0m\u001b[0;34m\u001b[0m\u001b[0;34m\u001b[0m\u001b[0m\n\u001b[0m",
            "\u001b[0;31mNameError\u001b[0m: name 'pi' is not defined"
          ]
        }
      ]
    },
    {
      "cell_type": "markdown",
      "source": [
        "If we only want a part of a module, we can import parts with a from...import statement. This is useful for large modules like datetime, where we may only want to use a few features."
      ],
      "metadata": {
        "id": "0tDuqtVDGEPb"
      }
    },
    {
      "cell_type": "code",
      "source": [
        "from datetime import date\n"
      ],
      "metadata": {
        "id": "viuoekgsGE9p"
      },
      "execution_count": null,
      "outputs": []
    },
    {
      "cell_type": "markdown",
      "source": [
        "### **NUMPY**\n",
        "We can import numpy like any other module. For convenience, numpy is typically loaded as np -- an alias that makes referencing it easier.\n"
      ],
      "metadata": {
        "id": "xhIXqnigHN52"
      }
    },
    {
      "cell_type": "code",
      "source": [
        "import numpy as np"
      ],
      "metadata": {
        "id": "MZFvz1MWKfFg"
      },
      "execution_count": null,
      "outputs": []
    },
    {
      "cell_type": "markdown",
      "source": [
        "### `numpy` arrays\n",
        "The main object in `numpy` is the `ndarray`, also referred to as the `array`. Dimensions in an array are called `axes`.\n",
        "\n",
        "We can create an array by calling `np.array()` and passing in data as a single value, like a list. Below is a matrix. The first axis has a length of two, and the second axis has a length of 3."
      ],
      "metadata": {
        "id": "lO97vZqjKp8-"
      }
    },
    {
      "cell_type": "code",
      "source": [
        "a = np.array([[1,4, 3],\n",
        "              [3, 4,1],\n",
        "              [3, 5,1]])\n",
        "\n",
        "a = np.array([[52,6],\n",
        "              [9==0, 6==6]])\n",
        "\n",
        "\n",
        "a.shape"
      ],
      "metadata": {
        "id": "al478L_uNYDD",
        "colab": {
          "base_uri": "https://localhost:8080/"
        },
        "outputId": "37933a8f-f10e-49dd-ed09-2dad64dfef5a"
      },
      "execution_count": null,
      "outputs": [
        {
          "output_type": "execute_result",
          "data": {
            "text/plain": [
              "(2, 2)"
            ]
          },
          "metadata": {},
          "execution_count": 114
        }
      ]
    },
    {
      "cell_type": "markdown",
      "source": [
        "An `array` has an `ndim` attribute indicating the number of its axes, a `size `indicating the number of values it has, and a `shape` indicating its size in each dimension. It also has a `dtype` describing what data type all of the elements in the array are.\n",
        "\n"
      ],
      "metadata": {
        "id": "Yrpk5OaPNuvI"
      }
    },
    {
      "cell_type": "code",
      "source": [
        "# number of dimensions\n",
        "print(a.ndim)\n",
        "\n",
        "# notice that the shape is rows x columns\n",
        "print(a.shape)\n",
        "\n",
        "# notice that the size is rows * columns\n",
        "print(a.size)\n",
        "\n",
        "# int32 is a numpy-provided dtype\n",
        "print(a.dtype)"
      ],
      "metadata": {
        "id": "CC1vdiodNvf2",
        "colab": {
          "base_uri": "https://localhost:8080/"
        },
        "outputId": "cf69bae6-8926-4a32-9a34-8e6b2293e41c"
      },
      "execution_count": null,
      "outputs": [
        {
          "output_type": "stream",
          "name": "stdout",
          "text": [
            "2\n",
            "(2, 2)\n",
            "4\n",
            "int64\n"
          ]
        }
      ]
    },
    {
      "cell_type": "markdown",
      "source": [
        "We can create arrays with placeholder content in several ways. This is useful when we know how many elements will be in an array, but not their values, as numpy arrays have fixed size\n",
        "\n",
        "\n"
      ],
      "metadata": {
        "id": "WmpkAI-jOeMv"
      }
    },
    {
      "cell_type": "code",
      "source": [
        "# create an 2x3x2 array of zeros. notice the double parentheses\n",
        "a=np.zeros((2, 3,6))\n",
        "a"
      ],
      "metadata": {
        "id": "zzR-e9JrO5fA",
        "colab": {
          "base_uri": "https://localhost:8080/"
        },
        "outputId": "d20e74a1-4ff4-4706-edfa-742e7235c571"
      },
      "execution_count": null,
      "outputs": [
        {
          "output_type": "execute_result",
          "data": {
            "text/plain": [
              "array([[[0., 0., 0., 0., 0., 0.],\n",
              "        [0., 0., 0., 0., 0., 0.],\n",
              "        [0., 0., 0., 0., 0., 0.]],\n",
              "\n",
              "       [[0., 0., 0., 0., 0., 0.],\n",
              "        [0., 0., 0., 0., 0., 0.],\n",
              "        [0., 0., 0., 0., 0., 0.]]])"
            ]
          },
          "metadata": {},
          "execution_count": 39
        }
      ]
    },
    {
      "cell_type": "markdown",
      "source": [
        "We can also create arrays by specifying a range of values through `arange()` or generating random ones through functions like `random.randint()` and `random.random()`."
      ],
      "metadata": {
        "id": "3z7sybPmO9LT"
      }
    },
    {
      "cell_type": "code",
      "source": [
        "# create a 1D array from 1 til 10 in steps of 2\n",
        "np.arange(1, 20, 2)\n"
      ],
      "metadata": {
        "id": "10v3OOiqPLI4",
        "colab": {
          "base_uri": "https://localhost:8080/"
        },
        "outputId": "58ac68cc-3c25-438d-f2f9-5d674ffbc0f6"
      },
      "execution_count": null,
      "outputs": [
        {
          "output_type": "execute_result",
          "data": {
            "text/plain": [
              "array([ 1,  3,  5,  7,  9, 11, 13, 15, 17, 19])"
            ]
          },
          "metadata": {},
          "execution_count": 40
        }
      ]
    },
    {
      "cell_type": "code",
      "source": [
        "# create a 1D array from 0 to 1 in steps of 0.1\n",
        "np.arange(0, 1, 0.1)"
      ],
      "metadata": {
        "id": "Uxt9IVnqPSka",
        "colab": {
          "base_uri": "https://localhost:8080/"
        },
        "outputId": "f1644dae-59df-499d-dfa0-30258a9c5025"
      },
      "execution_count": null,
      "outputs": [
        {
          "output_type": "execute_result",
          "data": {
            "text/plain": [
              "array([0. , 0.1, 0.2, 0.3, 0.4, 0.5, 0.6, 0.7, 0.8, 0.9])"
            ]
          },
          "metadata": {},
          "execution_count": 23
        }
      ]
    },
    {
      "cell_type": "code",
      "source": [
        "# create a 3x4 array of random integers between 1 and 10\n",
        "np.random.randint(1, 10, (4))\n",
        "\n",
        "# how can we make it so that it chooses it randomly but every time its the same set of random values?"
      ],
      "metadata": {
        "colab": {
          "base_uri": "https://localhost:8080/"
        },
        "id": "TjrwNVhrImZ4",
        "outputId": "c8dc48c7-3c6c-442b-9f1c-962416388f64"
      },
      "execution_count": null,
      "outputs": [
        {
          "output_type": "execute_result",
          "data": {
            "text/plain": [
              "array([6, 8, 8, 1])"
            ]
          },
          "metadata": {},
          "execution_count": 47
        }
      ]
    },
    {
      "cell_type": "code",
      "source": [
        "# seed is used to create a reproducible random example\n",
        "np.random.seed(11)\n",
        "# create a 3x4 array of random integers between 1 and 10\n",
        "np.random.randint(1, 10, (4))"
      ],
      "metadata": {
        "id": "2c63Ju1GPd-4",
        "colab": {
          "base_uri": "https://localhost:8080/"
        },
        "outputId": "d11b92c8-0246-420f-b7df-93d72a1634dd"
      },
      "execution_count": null,
      "outputs": [
        {
          "output_type": "execute_result",
          "data": {
            "text/plain": [
              "array([1, 2, 8, 2])"
            ]
          },
          "metadata": {},
          "execution_count": 50
        }
      ]
    },
    {
      "cell_type": "markdown",
      "source": [
        "We can repeat values and arrays to create bigger ones with repeat() and tile().\n",
        "\n"
      ],
      "metadata": {
        "id": "7IXGHohcPhG1"
      }
    },
    {
      "cell_type": "code",
      "source": [
        "# create a 1D array through repetition\n",
        "np.repeat(2.5, 8)"
      ],
      "metadata": {
        "id": "OnAaUaIqPhmI",
        "colab": {
          "base_uri": "https://localhost:8080/"
        },
        "outputId": "5a4272de-3185-4759-ae2f-2fcbc71b02bc"
      },
      "execution_count": null,
      "outputs": [
        {
          "output_type": "execute_result",
          "data": {
            "text/plain": [
              "array([2.5, 2.5, 2.5, 2.5, 2.5, 2.5, 2.5, 2.5])"
            ]
          },
          "metadata": {},
          "execution_count": 51
        }
      ]
    },
    {
      "cell_type": "code",
      "source": [
        "# create a 2D array through repetition\n",
        "onedim_arr = np.array([1, 2, 3, 4, 5])\n",
        "multidim_arr = np.tile(onedim_arr, (2,3))\n",
        "print(multidim_arr)\n",
        "\n",
        "# NOTE: try help(np.tile)"
      ],
      "metadata": {
        "id": "WvLXWe4wP416",
        "colab": {
          "base_uri": "https://localhost:8080/"
        },
        "outputId": "7f3321fc-dd16-4997-b502-75b24da59884"
      },
      "execution_count": null,
      "outputs": [
        {
          "output_type": "stream",
          "name": "stdout",
          "text": [
            "[[1 2 3 4 5 1 2 3 4 5 1 2 3 4 5]\n",
            " [1 2 3 4 5 1 2 3 4 5 1 2 3 4 5]]\n"
          ]
        }
      ]
    },
    {
      "cell_type": "markdown",
      "source": [
        " The comand `np.newaxis` is used to increase the dimension of the existing array by one more dimension, when used once. Thus,\n",
        "\n",
        "* 1D array will become 2D array\n",
        "\n",
        "* 2D array will become 3D array\n",
        "\n",
        "* 3D array will become 4D array\n",
        "\n",
        "* 4D array will become 5D array\n",
        "\n",
        "and so on"
      ],
      "metadata": {
        "id": "swi8z0-HSdmE"
      }
    },
    {
      "cell_type": "code",
      "source": [
        "# 1D array\n",
        "arr = np.arange(4)\n",
        "arr.shape\n"
      ],
      "metadata": {
        "id": "BGMe4I-ZSujS",
        "colab": {
          "base_uri": "https://localhost:8080/"
        },
        "outputId": "fd7969cd-cab9-4879-e48d-706d7d3aecdb"
      },
      "execution_count": null,
      "outputs": [
        {
          "output_type": "execute_result",
          "data": {
            "text/plain": [
              "(4,)"
            ]
          },
          "metadata": {},
          "execution_count": 59
        }
      ]
    },
    {
      "cell_type": "code",
      "source": [
        "# make it as row vector by inserting an axis along first dimension\n",
        "row_vec = arr[np.newaxis, :]\n",
        "row_vec.shape\n"
      ],
      "metadata": {
        "id": "0O-WZKR7S795",
        "colab": {
          "base_uri": "https://localhost:8080/"
        },
        "outputId": "50f12262-db2c-4cf0-8d9f-cd619fa59fdf"
      },
      "execution_count": null,
      "outputs": [
        {
          "output_type": "execute_result",
          "data": {
            "text/plain": [
              "(1, 4)"
            ]
          },
          "metadata": {},
          "execution_count": 60
        }
      ]
    },
    {
      "cell_type": "markdown",
      "source": [
        "## Basic opertations\n",
        "\n",
        "`numpy arrays` allow us to perform vector operations, manipulating all the elements in an axis without writing loops. For example, we can calculte a function to all of the elements in an array just with one simple command"
      ],
      "metadata": {
        "id": "fNSP6ToaUZu5"
      }
    },
    {
      "cell_type": "code",
      "source": [
        "degrees = np.arange(0, 360, 45)* np.pi/180\n",
        "degrees\n",
        "\n",
        "np.sin(degrees)\n",
        "\n",
        "# print(dir(np)) # NOTE: what else can numpy do?"
      ],
      "metadata": {
        "id": "-VdRsAYNUr6-",
        "colab": {
          "base_uri": "https://localhost:8080/"
        },
        "outputId": "5aa66d60-e1e9-4438-c970-7bb27e308243"
      },
      "execution_count": null,
      "outputs": [
        {
          "output_type": "execute_result",
          "data": {
            "text/plain": [
              "array([ 0.00000000e+00,  7.07106781e-01,  1.00000000e+00,  7.07106781e-01,\n",
              "        1.22464680e-16, -7.07106781e-01, -1.00000000e+00, -7.07106781e-01])"
            ]
          },
          "metadata": {},
          "execution_count": 66
        }
      ]
    },
    {
      "cell_type": "markdown",
      "source": [
        "We can perform operations when arrays are the same length along the axis in use, or when values can be broadcast, or repeated, along an axis.\n",
        "\n"
      ],
      "metadata": {
        "id": "RpXS0jXBZNWT"
      }
    },
    {
      "cell_type": "code",
      "source": [
        "arr1 = np.array([5, 10, 15, 20])\n",
        "arr2 = np.arange(5, 9)\n",
        "print(arr1)\n",
        "print(arr2)\n",
        "arr3 = np.array([1,2])\n",
        "print(arr3)"
      ],
      "metadata": {
        "id": "LYOVHqZjZON4",
        "colab": {
          "base_uri": "https://localhost:8080/"
        },
        "outputId": "10bca9a9-dfc2-4192-ca32-08d3fee0b20f"
      },
      "execution_count": null,
      "outputs": [
        {
          "output_type": "stream",
          "name": "stdout",
          "text": [
            "[ 5 10 15 20]\n",
            "[5 6 7 8]\n",
            "[1 2]\n"
          ]
        }
      ]
    },
    {
      "cell_type": "code",
      "source": [
        "# incompatible shapes!\n",
        "arr2+arr3"
      ],
      "metadata": {
        "id": "0kjRtq6AZrUD",
        "colab": {
          "base_uri": "https://localhost:8080/",
          "height": 179
        },
        "outputId": "33c43da9-9fc0-4654-b220-f3672cf2e669"
      },
      "execution_count": null,
      "outputs": [
        {
          "output_type": "error",
          "ename": "ValueError",
          "evalue": "operands could not be broadcast together with shapes (4,) (2,) ",
          "traceback": [
            "\u001b[0;31m---------------------------------------------------------------------------\u001b[0m",
            "\u001b[0;31mValueError\u001b[0m                                Traceback (most recent call last)",
            "\u001b[0;32m<ipython-input-31-94f537a70dc1>\u001b[0m in \u001b[0;36m<cell line: 2>\u001b[0;34m()\u001b[0m\n\u001b[1;32m      1\u001b[0m \u001b[0;31m# incompatible shapes!\u001b[0m\u001b[0;34m\u001b[0m\u001b[0;34m\u001b[0m\u001b[0m\n\u001b[0;32m----> 2\u001b[0;31m \u001b[0marr2\u001b[0m\u001b[0;34m+\u001b[0m\u001b[0marr3\u001b[0m\u001b[0;34m\u001b[0m\u001b[0;34m\u001b[0m\u001b[0m\n\u001b[0m",
            "\u001b[0;31mValueError\u001b[0m: operands could not be broadcast together with shapes (4,) (2,) "
          ]
        }
      ]
    },
    {
      "cell_type": "markdown",
      "source": [
        "We can also summarize the values in an array.\n",
        "\n"
      ],
      "metadata": {
        "id": "MRrboIjvaF-O"
      }
    },
    {
      "cell_type": "code",
      "source": [
        "print(arr2)\n",
        "print(np.median(arr2))\n",
        "print(np.mean(arr2))\n",
        "print(np.sum(arr2))\n",
        "print(np.max(arr2))\n"
      ],
      "metadata": {
        "id": "s6wsRYTMaHjY",
        "colab": {
          "base_uri": "https://localhost:8080/"
        },
        "outputId": "a113d6fc-a4de-47bd-e867-0cb89afb330b"
      },
      "execution_count": null,
      "outputs": [
        {
          "output_type": "stream",
          "name": "stdout",
          "text": [
            "[5 6 7 8]\n",
            "6.5\n",
            "6.5\n",
            "26\n",
            "8\n"
          ]
        }
      ]
    },
    {
      "cell_type": "markdown",
      "source": [
        "## Indexing, slicing, and iterating\n",
        "We can index and slice arrays like we would a list.\n",
        "\n"
      ],
      "metadata": {
        "id": "XbshODAqbIfd"
      }
    },
    {
      "cell_type": "code",
      "source": [
        "#arr1[0]\n",
        "print(arr1)\n",
        "print(arr1[1:3])\n"
      ],
      "metadata": {
        "id": "ktLNe9JhbShd",
        "colab": {
          "base_uri": "https://localhost:8080/"
        },
        "outputId": "25369623-41a8-4807-8781-29d8f826f742"
      },
      "execution_count": null,
      "outputs": [
        {
          "output_type": "stream",
          "name": "stdout",
          "text": [
            "[ 5 10 15 20]\n",
            "[10 15]\n"
          ]
        }
      ]
    },
    {
      "cell_type": "markdown",
      "source": [
        "Multidimensional arrays like matrices have one index per axis. We can pass in more than one index within the square brackets.\n",
        "\n"
      ],
      "metadata": {
        "id": "BbEohHSfbesZ"
      }
    },
    {
      "cell_type": "code",
      "source": [
        "tens = np.arange(0, 120, 10).reshape(3, 4)\n",
        "print(tens)\n",
        "tens[0:1,1:3]"
      ],
      "metadata": {
        "id": "F3k1i3RUbl9L",
        "colab": {
          "base_uri": "https://localhost:8080/"
        },
        "outputId": "30241c20-3309-4976-fd31-1071d56f5e22"
      },
      "execution_count": null,
      "outputs": [
        {
          "output_type": "stream",
          "name": "stdout",
          "text": [
            "[[  0  10  20  30]\n",
            " [ 40  50  60  70]\n",
            " [ 80  90 100 110]]\n"
          ]
        },
        {
          "output_type": "execute_result",
          "data": {
            "text/plain": [
              "array([[10, 20]])"
            ]
          },
          "metadata": {},
          "execution_count": 74
        }
      ]
    },
    {
      "cell_type": "markdown",
      "source": [
        "## **PANDAS**"
      ],
      "metadata": {
        "id": "_filRjhvdA2L"
      }
    },
    {
      "cell_type": "code",
      "source": [
        "import pandas as pd"
      ],
      "metadata": {
        "id": "3Pp_ocIthB0y"
      },
      "execution_count": null,
      "outputs": []
    },
    {
      "cell_type": "markdown",
      "source": [
        "### Data frames\n",
        "\n",
        "We can create a DataFrame manually with `DataFrame()` constructor. If a dictionary is passed to `DataFrame()`, the keys become column names, and the values become the rows. Calling just `DataFrame()` creates an empty DataFrame to which data can be added later.\n",
        "\n"
      ],
      "metadata": {
        "id": "fnuzGbcLhJc3"
      }
    },
    {
      "cell_type": "code",
      "source": [
        "trees = pd.DataFrame({\n",
        "    'name': ['sugar maple', 'black oak', 'white ash', 'douglas fir'],\n",
        "    'avg_lifespan': [300, 100, 260, 450],\n",
        "    'quantity': [53, 207, 178, 93]\n",
        "})\n",
        "trees"
      ],
      "metadata": {
        "id": "LE5Pc0TAhVfq",
        "colab": {
          "base_uri": "https://localhost:8080/",
          "height": 195
        },
        "outputId": "1f8803df-7485-4b37-d1b4-320501669385"
      },
      "execution_count": null,
      "outputs": [
        {
          "output_type": "execute_result",
          "data": {
            "text/plain": [
              "          name  avg_lifespan  quantity\n",
              "0  sugar maple           300        53\n",
              "1    black oak           100       207\n",
              "2    white ash           260       178\n",
              "3  douglas fir           450        93"
            ],
            "text/html": [
              "\n",
              "  <div id=\"df-7d8ddbd8-9414-4b6a-92ba-169db6ae465a\" class=\"colab-df-container\">\n",
              "    <div>\n",
              "<style scoped>\n",
              "    .dataframe tbody tr th:only-of-type {\n",
              "        vertical-align: middle;\n",
              "    }\n",
              "\n",
              "    .dataframe tbody tr th {\n",
              "        vertical-align: top;\n",
              "    }\n",
              "\n",
              "    .dataframe thead th {\n",
              "        text-align: right;\n",
              "    }\n",
              "</style>\n",
              "<table border=\"1\" class=\"dataframe\">\n",
              "  <thead>\n",
              "    <tr style=\"text-align: right;\">\n",
              "      <th></th>\n",
              "      <th>name</th>\n",
              "      <th>avg_lifespan</th>\n",
              "      <th>quantity</th>\n",
              "    </tr>\n",
              "  </thead>\n",
              "  <tbody>\n",
              "    <tr>\n",
              "      <th>0</th>\n",
              "      <td>sugar maple</td>\n",
              "      <td>300</td>\n",
              "      <td>53</td>\n",
              "    </tr>\n",
              "    <tr>\n",
              "      <th>1</th>\n",
              "      <td>black oak</td>\n",
              "      <td>100</td>\n",
              "      <td>207</td>\n",
              "    </tr>\n",
              "    <tr>\n",
              "      <th>2</th>\n",
              "      <td>white ash</td>\n",
              "      <td>260</td>\n",
              "      <td>178</td>\n",
              "    </tr>\n",
              "    <tr>\n",
              "      <th>3</th>\n",
              "      <td>douglas fir</td>\n",
              "      <td>450</td>\n",
              "      <td>93</td>\n",
              "    </tr>\n",
              "  </tbody>\n",
              "</table>\n",
              "</div>\n",
              "    <div class=\"colab-df-buttons\">\n",
              "\n",
              "  <div class=\"colab-df-container\">\n",
              "    <button class=\"colab-df-convert\" onclick=\"convertToInteractive('df-7d8ddbd8-9414-4b6a-92ba-169db6ae465a')\"\n",
              "            title=\"Convert this dataframe to an interactive table.\"\n",
              "            style=\"display:none;\">\n",
              "\n",
              "  <svg xmlns=\"http://www.w3.org/2000/svg\" height=\"24px\" viewBox=\"0 -960 960 960\">\n",
              "    <path d=\"M120-120v-720h720v720H120Zm60-500h600v-160H180v160Zm220 220h160v-160H400v160Zm0 220h160v-160H400v160ZM180-400h160v-160H180v160Zm440 0h160v-160H620v160ZM180-180h160v-160H180v160Zm440 0h160v-160H620v160Z\"/>\n",
              "  </svg>\n",
              "    </button>\n",
              "\n",
              "  <style>\n",
              "    .colab-df-container {\n",
              "      display:flex;\n",
              "      gap: 12px;\n",
              "    }\n",
              "\n",
              "    .colab-df-convert {\n",
              "      background-color: #E8F0FE;\n",
              "      border: none;\n",
              "      border-radius: 50%;\n",
              "      cursor: pointer;\n",
              "      display: none;\n",
              "      fill: #1967D2;\n",
              "      height: 32px;\n",
              "      padding: 0 0 0 0;\n",
              "      width: 32px;\n",
              "    }\n",
              "\n",
              "    .colab-df-convert:hover {\n",
              "      background-color: #E2EBFA;\n",
              "      box-shadow: 0px 1px 2px rgba(60, 64, 67, 0.3), 0px 1px 3px 1px rgba(60, 64, 67, 0.15);\n",
              "      fill: #174EA6;\n",
              "    }\n",
              "\n",
              "    .colab-df-buttons div {\n",
              "      margin-bottom: 4px;\n",
              "    }\n",
              "\n",
              "    [theme=dark] .colab-df-convert {\n",
              "      background-color: #3B4455;\n",
              "      fill: #D2E3FC;\n",
              "    }\n",
              "\n",
              "    [theme=dark] .colab-df-convert:hover {\n",
              "      background-color: #434B5C;\n",
              "      box-shadow: 0px 1px 3px 1px rgba(0, 0, 0, 0.15);\n",
              "      filter: drop-shadow(0px 1px 2px rgba(0, 0, 0, 0.3));\n",
              "      fill: #FFFFFF;\n",
              "    }\n",
              "  </style>\n",
              "\n",
              "    <script>\n",
              "      const buttonEl =\n",
              "        document.querySelector('#df-7d8ddbd8-9414-4b6a-92ba-169db6ae465a button.colab-df-convert');\n",
              "      buttonEl.style.display =\n",
              "        google.colab.kernel.accessAllowed ? 'block' : 'none';\n",
              "\n",
              "      async function convertToInteractive(key) {\n",
              "        const element = document.querySelector('#df-7d8ddbd8-9414-4b6a-92ba-169db6ae465a');\n",
              "        const dataTable =\n",
              "          await google.colab.kernel.invokeFunction('convertToInteractive',\n",
              "                                                    [key], {});\n",
              "        if (!dataTable) return;\n",
              "\n",
              "        const docLinkHtml = 'Like what you see? Visit the ' +\n",
              "          '<a target=\"_blank\" href=https://colab.research.google.com/notebooks/data_table.ipynb>data table notebook</a>'\n",
              "          + ' to learn more about interactive tables.';\n",
              "        element.innerHTML = '';\n",
              "        dataTable['output_type'] = 'display_data';\n",
              "        await google.colab.output.renderOutput(dataTable, element);\n",
              "        const docLink = document.createElement('div');\n",
              "        docLink.innerHTML = docLinkHtml;\n",
              "        element.appendChild(docLink);\n",
              "      }\n",
              "    </script>\n",
              "  </div>\n",
              "\n",
              "\n",
              "<div id=\"df-a18ac0eb-1afb-4cd1-afa4-ca555032f556\">\n",
              "  <button class=\"colab-df-quickchart\" onclick=\"quickchart('df-a18ac0eb-1afb-4cd1-afa4-ca555032f556')\"\n",
              "            title=\"Suggest charts\"\n",
              "            style=\"display:none;\">\n",
              "\n",
              "<svg xmlns=\"http://www.w3.org/2000/svg\" height=\"24px\"viewBox=\"0 0 24 24\"\n",
              "     width=\"24px\">\n",
              "    <g>\n",
              "        <path d=\"M19 3H5c-1.1 0-2 .9-2 2v14c0 1.1.9 2 2 2h14c1.1 0 2-.9 2-2V5c0-1.1-.9-2-2-2zM9 17H7v-7h2v7zm4 0h-2V7h2v10zm4 0h-2v-4h2v4z\"/>\n",
              "    </g>\n",
              "</svg>\n",
              "  </button>\n",
              "\n",
              "<style>\n",
              "  .colab-df-quickchart {\n",
              "      --bg-color: #E8F0FE;\n",
              "      --fill-color: #1967D2;\n",
              "      --hover-bg-color: #E2EBFA;\n",
              "      --hover-fill-color: #174EA6;\n",
              "      --disabled-fill-color: #AAA;\n",
              "      --disabled-bg-color: #DDD;\n",
              "  }\n",
              "\n",
              "  [theme=dark] .colab-df-quickchart {\n",
              "      --bg-color: #3B4455;\n",
              "      --fill-color: #D2E3FC;\n",
              "      --hover-bg-color: #434B5C;\n",
              "      --hover-fill-color: #FFFFFF;\n",
              "      --disabled-bg-color: #3B4455;\n",
              "      --disabled-fill-color: #666;\n",
              "  }\n",
              "\n",
              "  .colab-df-quickchart {\n",
              "    background-color: var(--bg-color);\n",
              "    border: none;\n",
              "    border-radius: 50%;\n",
              "    cursor: pointer;\n",
              "    display: none;\n",
              "    fill: var(--fill-color);\n",
              "    height: 32px;\n",
              "    padding: 0;\n",
              "    width: 32px;\n",
              "  }\n",
              "\n",
              "  .colab-df-quickchart:hover {\n",
              "    background-color: var(--hover-bg-color);\n",
              "    box-shadow: 0 1px 2px rgba(60, 64, 67, 0.3), 0 1px 3px 1px rgba(60, 64, 67, 0.15);\n",
              "    fill: var(--button-hover-fill-color);\n",
              "  }\n",
              "\n",
              "  .colab-df-quickchart-complete:disabled,\n",
              "  .colab-df-quickchart-complete:disabled:hover {\n",
              "    background-color: var(--disabled-bg-color);\n",
              "    fill: var(--disabled-fill-color);\n",
              "    box-shadow: none;\n",
              "  }\n",
              "\n",
              "  .colab-df-spinner {\n",
              "    border: 2px solid var(--fill-color);\n",
              "    border-color: transparent;\n",
              "    border-bottom-color: var(--fill-color);\n",
              "    animation:\n",
              "      spin 1s steps(1) infinite;\n",
              "  }\n",
              "\n",
              "  @keyframes spin {\n",
              "    0% {\n",
              "      border-color: transparent;\n",
              "      border-bottom-color: var(--fill-color);\n",
              "      border-left-color: var(--fill-color);\n",
              "    }\n",
              "    20% {\n",
              "      border-color: transparent;\n",
              "      border-left-color: var(--fill-color);\n",
              "      border-top-color: var(--fill-color);\n",
              "    }\n",
              "    30% {\n",
              "      border-color: transparent;\n",
              "      border-left-color: var(--fill-color);\n",
              "      border-top-color: var(--fill-color);\n",
              "      border-right-color: var(--fill-color);\n",
              "    }\n",
              "    40% {\n",
              "      border-color: transparent;\n",
              "      border-right-color: var(--fill-color);\n",
              "      border-top-color: var(--fill-color);\n",
              "    }\n",
              "    60% {\n",
              "      border-color: transparent;\n",
              "      border-right-color: var(--fill-color);\n",
              "    }\n",
              "    80% {\n",
              "      border-color: transparent;\n",
              "      border-right-color: var(--fill-color);\n",
              "      border-bottom-color: var(--fill-color);\n",
              "    }\n",
              "    90% {\n",
              "      border-color: transparent;\n",
              "      border-bottom-color: var(--fill-color);\n",
              "    }\n",
              "  }\n",
              "</style>\n",
              "\n",
              "  <script>\n",
              "    async function quickchart(key) {\n",
              "      const quickchartButtonEl =\n",
              "        document.querySelector('#' + key + ' button');\n",
              "      quickchartButtonEl.disabled = true;  // To prevent multiple clicks.\n",
              "      quickchartButtonEl.classList.add('colab-df-spinner');\n",
              "      try {\n",
              "        const charts = await google.colab.kernel.invokeFunction(\n",
              "            'suggestCharts', [key], {});\n",
              "      } catch (error) {\n",
              "        console.error('Error during call to suggestCharts:', error);\n",
              "      }\n",
              "      quickchartButtonEl.classList.remove('colab-df-spinner');\n",
              "      quickchartButtonEl.classList.add('colab-df-quickchart-complete');\n",
              "    }\n",
              "    (() => {\n",
              "      let quickchartButtonEl =\n",
              "        document.querySelector('#df-a18ac0eb-1afb-4cd1-afa4-ca555032f556 button');\n",
              "      quickchartButtonEl.style.display =\n",
              "        google.colab.kernel.accessAllowed ? 'block' : 'none';\n",
              "    })();\n",
              "  </script>\n",
              "</div>\n",
              "\n",
              "  <div id=\"id_3d8f1e80-7733-40eb-b721-dbe00b637386\">\n",
              "    <style>\n",
              "      .colab-df-generate {\n",
              "        background-color: #E8F0FE;\n",
              "        border: none;\n",
              "        border-radius: 50%;\n",
              "        cursor: pointer;\n",
              "        display: none;\n",
              "        fill: #1967D2;\n",
              "        height: 32px;\n",
              "        padding: 0 0 0 0;\n",
              "        width: 32px;\n",
              "      }\n",
              "\n",
              "      .colab-df-generate:hover {\n",
              "        background-color: #E2EBFA;\n",
              "        box-shadow: 0px 1px 2px rgba(60, 64, 67, 0.3), 0px 1px 3px 1px rgba(60, 64, 67, 0.15);\n",
              "        fill: #174EA6;\n",
              "      }\n",
              "\n",
              "      [theme=dark] .colab-df-generate {\n",
              "        background-color: #3B4455;\n",
              "        fill: #D2E3FC;\n",
              "      }\n",
              "\n",
              "      [theme=dark] .colab-df-generate:hover {\n",
              "        background-color: #434B5C;\n",
              "        box-shadow: 0px 1px 3px 1px rgba(0, 0, 0, 0.15);\n",
              "        filter: drop-shadow(0px 1px 2px rgba(0, 0, 0, 0.3));\n",
              "        fill: #FFFFFF;\n",
              "      }\n",
              "    </style>\n",
              "    <button class=\"colab-df-generate\" onclick=\"generateWithVariable('trees')\"\n",
              "            title=\"Generate code using this dataframe.\"\n",
              "            style=\"display:none;\">\n",
              "\n",
              "  <svg xmlns=\"http://www.w3.org/2000/svg\" height=\"24px\"viewBox=\"0 0 24 24\"\n",
              "       width=\"24px\">\n",
              "    <path d=\"M7,19H8.4L18.45,9,17,7.55,7,17.6ZM5,21V16.75L18.45,3.32a2,2,0,0,1,2.83,0l1.4,1.43a1.91,1.91,0,0,1,.58,1.4,1.91,1.91,0,0,1-.58,1.4L9.25,21ZM18.45,9,17,7.55Zm-12,3A5.31,5.31,0,0,0,4.9,8.1,5.31,5.31,0,0,0,1,6.5,5.31,5.31,0,0,0,4.9,4.9,5.31,5.31,0,0,0,6.5,1,5.31,5.31,0,0,0,8.1,4.9,5.31,5.31,0,0,0,12,6.5,5.46,5.46,0,0,0,6.5,12Z\"/>\n",
              "  </svg>\n",
              "    </button>\n",
              "    <script>\n",
              "      (() => {\n",
              "      const buttonEl =\n",
              "        document.querySelector('#id_3d8f1e80-7733-40eb-b721-dbe00b637386 button.colab-df-generate');\n",
              "      buttonEl.style.display =\n",
              "        google.colab.kernel.accessAllowed ? 'block' : 'none';\n",
              "\n",
              "      buttonEl.onclick = () => {\n",
              "        google.colab.notebook.generateWithVariable('trees');\n",
              "      }\n",
              "      })();\n",
              "    </script>\n",
              "  </div>\n",
              "\n",
              "    </div>\n",
              "  </div>\n"
            ],
            "application/vnd.google.colaboratory.intrinsic+json": {
              "type": "dataframe",
              "variable_name": "trees",
              "summary": "{\n  \"name\": \"trees\",\n  \"rows\": 4,\n  \"fields\": [\n    {\n      \"column\": \"name\",\n      \"properties\": {\n        \"dtype\": \"string\",\n        \"num_unique_values\": 4,\n        \"samples\": [\n          \"black oak\",\n          \"douglas fir\",\n          \"sugar maple\"\n        ],\n        \"semantic_type\": \"\",\n        \"description\": \"\"\n      }\n    },\n    {\n      \"column\": \"avg_lifespan\",\n      \"properties\": {\n        \"dtype\": \"number\",\n        \"std\": 143,\n        \"min\": 100,\n        \"max\": 450,\n        \"num_unique_values\": 4,\n        \"samples\": [\n          100,\n          450,\n          300\n        ],\n        \"semantic_type\": \"\",\n        \"description\": \"\"\n      }\n    },\n    {\n      \"column\": \"quantity\",\n      \"properties\": {\n        \"dtype\": \"number\",\n        \"std\": 71,\n        \"min\": 53,\n        \"max\": 207,\n        \"num_unique_values\": 4,\n        \"samples\": [\n          207,\n          93,\n          53\n        ],\n        \"semantic_type\": \"\",\n        \"description\": \"\"\n      }\n    }\n  ]\n}"
            }
          },
          "metadata": {},
          "execution_count": 75
        }
      ]
    },
    {
      "cell_type": "markdown",
      "source": [
        "## Load data from csv\n",
        "\n",
        "Of course, we're more likely to load data into a DataFrame than to create DataFrames manually. `pandas` has read functions for different file formats. To read data from a csv or other delimited file, we use `pd.read_csv()`, then pass in the local file path or the URL of the csv to read. pandas will infer the data type of each column based on the values in the first chunk of the file loaded.\n",
        "\n",
        "###**Bicycle Thefts data set**\n",
        "This dataset contains Bicycle Thefts occurrences by reported date and details regarding the stolen item where available. This data includes all bicycle theft occurrences reported to the Toronto Police Service, including those where the location has not been able to be verified. As a result, coordinate fields may appear blank. Likewise, this includes occurrences where the coordinate location is outside the City of Toronto.\n",
        "\n",
        "\n"
      ],
      "metadata": {
        "id": "oec2dhNxhyqL"
      }
    },
    {
      "cell_type": "code",
      "source": [
        "# Data: https://open.toronto.ca/dataset/bicycle-thefts/\n",
        "\n",
        "# from google.colab import drive\n",
        "\n",
        "# drive.mount('/content/drive')\n",
        "\n",
        "thefts = pd.read_csv('/content/drive/MyDrive/SUDS Notebooks/content/bicycle-thefts - 4326.csv')\n"
      ],
      "metadata": {
        "id": "kz5J0fngmPtC"
      },
      "execution_count": null,
      "outputs": []
    },
    {
      "cell_type": "code",
      "source": [
        "thefts"
      ],
      "metadata": {
        "id": "3vPRyAROpxaj",
        "colab": {
          "base_uri": "https://localhost:8080/",
          "height": 964
        },
        "outputId": "aece369a-1361-411e-e44e-7d1812e80386"
      },
      "execution_count": null,
      "outputs": [
        {
          "output_type": "execute_result",
          "data": {
            "text/plain": [
              "         _id EVENT_UNIQUE_ID        PRIMARY_OFFENCE    OCC_DATE  OCC_YEAR  \\\n",
              "0          1  GO-20141263784       PROPERTY - FOUND         NaN      2014   \n",
              "1          2  GO-20141261431            THEFT UNDER         NaN      2014   \n",
              "2          3  GO-20141263544                    B&E  1388-03-04      2013   \n",
              "3          4  GO-20141266048            THEFT UNDER         NaN      2013   \n",
              "4          5  GO-20149000090            THEFT UNDER         NaN      2014   \n",
              "...      ...             ...                    ...         ...       ...   \n",
              "35320  35321   GO-2024676645       PROPERTY - FOUND         NaN      2024   \n",
              "35321  35322  GO-20249016258  THEFT UNDER - BICYCLE         NaN      2024   \n",
              "35322  35323  GO-20249016319  THEFT UNDER - BICYCLE         NaN      2024   \n",
              "35323  35324   GO-2024681500   THEFT OVER - BICYCLE  1710-09-07      2024   \n",
              "35324  35325   GO-2024681500   THEFT OVER - BICYCLE  1710-09-07      2024   \n",
              "\n",
              "      OCC_MONTH    OCC_DOW  OCC_DAY  OCC_DOY  OCC_HOUR  ...  \\\n",
              "0       January  Wednesday        1        1        18  ...   \n",
              "1       January  Wednesday        1        1         7  ...   \n",
              "2      December   Thursday       26      360        19  ...   \n",
              "3      December     Monday       30      364        17  ...   \n",
              "4       January  Wednesday        1        1        12  ...   \n",
              "...         ...        ...      ...      ...       ...  ...   \n",
              "35320     March     Friday       29       89        16  ...   \n",
              "35321     March     Friday       29       89        15  ...   \n",
              "35322     March   Saturday       30       90         1  ...   \n",
              "35323     March  Wednesday       20       80        10  ...   \n",
              "35324     March  Wednesday       20       80        10  ...   \n",
              "\n",
              "                                           LOCATION_TYPE  PREMISES_TYPE  \\\n",
              "0      Single Home, House (Attach Garage, Cottage, Mo...          House   \n",
              "1                       Apartment (Rooming House, Condo)      Apartment   \n",
              "2      Other Commercial / Corporate Places (For Profi...     Commercial   \n",
              "3      Streets, Roads, Highways (Bicycle Path, Privat...        Outside   \n",
              "4                       Apartment (Rooming House, Condo)      Apartment   \n",
              "...                                                  ...            ...   \n",
              "35320  Streets, Roads, Highways (Bicycle Path, Privat...        Outside   \n",
              "35321                   Apartment (Rooming House, Condo)      Apartment   \n",
              "35322                   Apartment (Rooming House, Condo)      Apartment   \n",
              "35323  Streets, Roads, Highways (Bicycle Path, Privat...        Outside   \n",
              "35324  Streets, Roads, Highways (Bicycle Path, Privat...        Outside   \n",
              "\n",
              "        BIKE_MAKE       BIKE_MODEL  BIKE_TYPE  BIKE_SPEED  BIKE_COLOUR  \\\n",
              "0            TREK           SOHO S         RG         1.0          BLK   \n",
              "1      SUPERCYCLE              NaN         MT        10.0          NaN   \n",
              "2            FELT              F59         RC        21.0       SILRED   \n",
              "3             KHS        VITAMIN A         OT        24.0          WHI   \n",
              "4              GI      TCX2 (2010)         OT         9.0          BLU   \n",
              "...           ...              ...        ...         ...          ...   \n",
              "35320         CCM              NaN         RG         0.0          BLU   \n",
              "35321          GI   GIANT ESCAPE 2         RG         NaN          GRY   \n",
              "35322          UK  SPECIALIZED ALL         RC        16.0          BLK   \n",
              "35323  SANTA CRUZ       MEGA TOWER         MT         1.0          GRY   \n",
              "35324          SA               MT         MT        12.0          BLK   \n",
              "\n",
              "      BIKE_COST     STATUS                                           geometry  \n",
              "0           NaN  RECOVERED  {'type': 'MultiPoint', 'coordinates': [[-79.41...  \n",
              "1           NaN     STOLEN  {'type': 'MultiPoint', 'coordinates': [[-79.44...  \n",
              "2        1300.0     STOLEN  {'type': 'MultiPoint', 'coordinates': [[-79.39...  \n",
              "3         500.0     STOLEN  {'type': 'MultiPoint', 'coordinates': [[-79.42...  \n",
              "4        1019.0     STOLEN  {'type': 'MultiPoint', 'coordinates': [[-79.39...  \n",
              "...         ...        ...                                                ...  \n",
              "35320      50.0    UNKNOWN  {'type': 'MultiPoint', 'coordinates': [[-79.41...  \n",
              "35321     900.0     STOLEN  {'type': 'MultiPoint', 'coordinates': [[-79.40...  \n",
              "35322    1199.0     STOLEN  {'type': 'MultiPoint', 'coordinates': [[-79.44...  \n",
              "35323    8000.0     STOLEN  {'type': 'MultiPoint', 'coordinates': [[-79.38...  \n",
              "35324    8900.0     STOLEN  {'type': 'MultiPoint', 'coordinates': [[-79.38...  \n",
              "\n",
              "[35325 rows x 28 columns]"
            ],
            "text/html": [
              "\n",
              "  <div id=\"df-01c0eb88-b6e7-4c33-99ae-1589570a4342\" class=\"colab-df-container\">\n",
              "    <div>\n",
              "<style scoped>\n",
              "    .dataframe tbody tr th:only-of-type {\n",
              "        vertical-align: middle;\n",
              "    }\n",
              "\n",
              "    .dataframe tbody tr th {\n",
              "        vertical-align: top;\n",
              "    }\n",
              "\n",
              "    .dataframe thead th {\n",
              "        text-align: right;\n",
              "    }\n",
              "</style>\n",
              "<table border=\"1\" class=\"dataframe\">\n",
              "  <thead>\n",
              "    <tr style=\"text-align: right;\">\n",
              "      <th></th>\n",
              "      <th>_id</th>\n",
              "      <th>EVENT_UNIQUE_ID</th>\n",
              "      <th>PRIMARY_OFFENCE</th>\n",
              "      <th>OCC_DATE</th>\n",
              "      <th>OCC_YEAR</th>\n",
              "      <th>OCC_MONTH</th>\n",
              "      <th>OCC_DOW</th>\n",
              "      <th>OCC_DAY</th>\n",
              "      <th>OCC_DOY</th>\n",
              "      <th>OCC_HOUR</th>\n",
              "      <th>...</th>\n",
              "      <th>LOCATION_TYPE</th>\n",
              "      <th>PREMISES_TYPE</th>\n",
              "      <th>BIKE_MAKE</th>\n",
              "      <th>BIKE_MODEL</th>\n",
              "      <th>BIKE_TYPE</th>\n",
              "      <th>BIKE_SPEED</th>\n",
              "      <th>BIKE_COLOUR</th>\n",
              "      <th>BIKE_COST</th>\n",
              "      <th>STATUS</th>\n",
              "      <th>geometry</th>\n",
              "    </tr>\n",
              "  </thead>\n",
              "  <tbody>\n",
              "    <tr>\n",
              "      <th>0</th>\n",
              "      <td>1</td>\n",
              "      <td>GO-20141263784</td>\n",
              "      <td>PROPERTY - FOUND</td>\n",
              "      <td>NaN</td>\n",
              "      <td>2014</td>\n",
              "      <td>January</td>\n",
              "      <td>Wednesday</td>\n",
              "      <td>1</td>\n",
              "      <td>1</td>\n",
              "      <td>18</td>\n",
              "      <td>...</td>\n",
              "      <td>Single Home, House (Attach Garage, Cottage, Mo...</td>\n",
              "      <td>House</td>\n",
              "      <td>TREK</td>\n",
              "      <td>SOHO S</td>\n",
              "      <td>RG</td>\n",
              "      <td>1.0</td>\n",
              "      <td>BLK</td>\n",
              "      <td>NaN</td>\n",
              "      <td>RECOVERED</td>\n",
              "      <td>{'type': 'MultiPoint', 'coordinates': [[-79.41...</td>\n",
              "    </tr>\n",
              "    <tr>\n",
              "      <th>1</th>\n",
              "      <td>2</td>\n",
              "      <td>GO-20141261431</td>\n",
              "      <td>THEFT UNDER</td>\n",
              "      <td>NaN</td>\n",
              "      <td>2014</td>\n",
              "      <td>January</td>\n",
              "      <td>Wednesday</td>\n",
              "      <td>1</td>\n",
              "      <td>1</td>\n",
              "      <td>7</td>\n",
              "      <td>...</td>\n",
              "      <td>Apartment (Rooming House, Condo)</td>\n",
              "      <td>Apartment</td>\n",
              "      <td>SUPERCYCLE</td>\n",
              "      <td>NaN</td>\n",
              "      <td>MT</td>\n",
              "      <td>10.0</td>\n",
              "      <td>NaN</td>\n",
              "      <td>NaN</td>\n",
              "      <td>STOLEN</td>\n",
              "      <td>{'type': 'MultiPoint', 'coordinates': [[-79.44...</td>\n",
              "    </tr>\n",
              "    <tr>\n",
              "      <th>2</th>\n",
              "      <td>3</td>\n",
              "      <td>GO-20141263544</td>\n",
              "      <td>B&amp;E</td>\n",
              "      <td>1388-03-04</td>\n",
              "      <td>2013</td>\n",
              "      <td>December</td>\n",
              "      <td>Thursday</td>\n",
              "      <td>26</td>\n",
              "      <td>360</td>\n",
              "      <td>19</td>\n",
              "      <td>...</td>\n",
              "      <td>Other Commercial / Corporate Places (For Profi...</td>\n",
              "      <td>Commercial</td>\n",
              "      <td>FELT</td>\n",
              "      <td>F59</td>\n",
              "      <td>RC</td>\n",
              "      <td>21.0</td>\n",
              "      <td>SILRED</td>\n",
              "      <td>1300.0</td>\n",
              "      <td>STOLEN</td>\n",
              "      <td>{'type': 'MultiPoint', 'coordinates': [[-79.39...</td>\n",
              "    </tr>\n",
              "    <tr>\n",
              "      <th>3</th>\n",
              "      <td>4</td>\n",
              "      <td>GO-20141266048</td>\n",
              "      <td>THEFT UNDER</td>\n",
              "      <td>NaN</td>\n",
              "      <td>2013</td>\n",
              "      <td>December</td>\n",
              "      <td>Monday</td>\n",
              "      <td>30</td>\n",
              "      <td>364</td>\n",
              "      <td>17</td>\n",
              "      <td>...</td>\n",
              "      <td>Streets, Roads, Highways (Bicycle Path, Privat...</td>\n",
              "      <td>Outside</td>\n",
              "      <td>KHS</td>\n",
              "      <td>VITAMIN A</td>\n",
              "      <td>OT</td>\n",
              "      <td>24.0</td>\n",
              "      <td>WHI</td>\n",
              "      <td>500.0</td>\n",
              "      <td>STOLEN</td>\n",
              "      <td>{'type': 'MultiPoint', 'coordinates': [[-79.42...</td>\n",
              "    </tr>\n",
              "    <tr>\n",
              "      <th>4</th>\n",
              "      <td>5</td>\n",
              "      <td>GO-20149000090</td>\n",
              "      <td>THEFT UNDER</td>\n",
              "      <td>NaN</td>\n",
              "      <td>2014</td>\n",
              "      <td>January</td>\n",
              "      <td>Wednesday</td>\n",
              "      <td>1</td>\n",
              "      <td>1</td>\n",
              "      <td>12</td>\n",
              "      <td>...</td>\n",
              "      <td>Apartment (Rooming House, Condo)</td>\n",
              "      <td>Apartment</td>\n",
              "      <td>GI</td>\n",
              "      <td>TCX2 (2010)</td>\n",
              "      <td>OT</td>\n",
              "      <td>9.0</td>\n",
              "      <td>BLU</td>\n",
              "      <td>1019.0</td>\n",
              "      <td>STOLEN</td>\n",
              "      <td>{'type': 'MultiPoint', 'coordinates': [[-79.39...</td>\n",
              "    </tr>\n",
              "    <tr>\n",
              "      <th>...</th>\n",
              "      <td>...</td>\n",
              "      <td>...</td>\n",
              "      <td>...</td>\n",
              "      <td>...</td>\n",
              "      <td>...</td>\n",
              "      <td>...</td>\n",
              "      <td>...</td>\n",
              "      <td>...</td>\n",
              "      <td>...</td>\n",
              "      <td>...</td>\n",
              "      <td>...</td>\n",
              "      <td>...</td>\n",
              "      <td>...</td>\n",
              "      <td>...</td>\n",
              "      <td>...</td>\n",
              "      <td>...</td>\n",
              "      <td>...</td>\n",
              "      <td>...</td>\n",
              "      <td>...</td>\n",
              "      <td>...</td>\n",
              "      <td>...</td>\n",
              "    </tr>\n",
              "    <tr>\n",
              "      <th>35320</th>\n",
              "      <td>35321</td>\n",
              "      <td>GO-2024676645</td>\n",
              "      <td>PROPERTY - FOUND</td>\n",
              "      <td>NaN</td>\n",
              "      <td>2024</td>\n",
              "      <td>March</td>\n",
              "      <td>Friday</td>\n",
              "      <td>29</td>\n",
              "      <td>89</td>\n",
              "      <td>16</td>\n",
              "      <td>...</td>\n",
              "      <td>Streets, Roads, Highways (Bicycle Path, Privat...</td>\n",
              "      <td>Outside</td>\n",
              "      <td>CCM</td>\n",
              "      <td>NaN</td>\n",
              "      <td>RG</td>\n",
              "      <td>0.0</td>\n",
              "      <td>BLU</td>\n",
              "      <td>50.0</td>\n",
              "      <td>UNKNOWN</td>\n",
              "      <td>{'type': 'MultiPoint', 'coordinates': [[-79.41...</td>\n",
              "    </tr>\n",
              "    <tr>\n",
              "      <th>35321</th>\n",
              "      <td>35322</td>\n",
              "      <td>GO-20249016258</td>\n",
              "      <td>THEFT UNDER - BICYCLE</td>\n",
              "      <td>NaN</td>\n",
              "      <td>2024</td>\n",
              "      <td>March</td>\n",
              "      <td>Friday</td>\n",
              "      <td>29</td>\n",
              "      <td>89</td>\n",
              "      <td>15</td>\n",
              "      <td>...</td>\n",
              "      <td>Apartment (Rooming House, Condo)</td>\n",
              "      <td>Apartment</td>\n",
              "      <td>GI</td>\n",
              "      <td>GIANT ESCAPE 2</td>\n",
              "      <td>RG</td>\n",
              "      <td>NaN</td>\n",
              "      <td>GRY</td>\n",
              "      <td>900.0</td>\n",
              "      <td>STOLEN</td>\n",
              "      <td>{'type': 'MultiPoint', 'coordinates': [[-79.40...</td>\n",
              "    </tr>\n",
              "    <tr>\n",
              "      <th>35322</th>\n",
              "      <td>35323</td>\n",
              "      <td>GO-20249016319</td>\n",
              "      <td>THEFT UNDER - BICYCLE</td>\n",
              "      <td>NaN</td>\n",
              "      <td>2024</td>\n",
              "      <td>March</td>\n",
              "      <td>Saturday</td>\n",
              "      <td>30</td>\n",
              "      <td>90</td>\n",
              "      <td>1</td>\n",
              "      <td>...</td>\n",
              "      <td>Apartment (Rooming House, Condo)</td>\n",
              "      <td>Apartment</td>\n",
              "      <td>UK</td>\n",
              "      <td>SPECIALIZED ALL</td>\n",
              "      <td>RC</td>\n",
              "      <td>16.0</td>\n",
              "      <td>BLK</td>\n",
              "      <td>1199.0</td>\n",
              "      <td>STOLEN</td>\n",
              "      <td>{'type': 'MultiPoint', 'coordinates': [[-79.44...</td>\n",
              "    </tr>\n",
              "    <tr>\n",
              "      <th>35323</th>\n",
              "      <td>35324</td>\n",
              "      <td>GO-2024681500</td>\n",
              "      <td>THEFT OVER - BICYCLE</td>\n",
              "      <td>1710-09-07</td>\n",
              "      <td>2024</td>\n",
              "      <td>March</td>\n",
              "      <td>Wednesday</td>\n",
              "      <td>20</td>\n",
              "      <td>80</td>\n",
              "      <td>10</td>\n",
              "      <td>...</td>\n",
              "      <td>Streets, Roads, Highways (Bicycle Path, Privat...</td>\n",
              "      <td>Outside</td>\n",
              "      <td>SANTA CRUZ</td>\n",
              "      <td>MEGA TOWER</td>\n",
              "      <td>MT</td>\n",
              "      <td>1.0</td>\n",
              "      <td>GRY</td>\n",
              "      <td>8000.0</td>\n",
              "      <td>STOLEN</td>\n",
              "      <td>{'type': 'MultiPoint', 'coordinates': [[-79.38...</td>\n",
              "    </tr>\n",
              "    <tr>\n",
              "      <th>35324</th>\n",
              "      <td>35325</td>\n",
              "      <td>GO-2024681500</td>\n",
              "      <td>THEFT OVER - BICYCLE</td>\n",
              "      <td>1710-09-07</td>\n",
              "      <td>2024</td>\n",
              "      <td>March</td>\n",
              "      <td>Wednesday</td>\n",
              "      <td>20</td>\n",
              "      <td>80</td>\n",
              "      <td>10</td>\n",
              "      <td>...</td>\n",
              "      <td>Streets, Roads, Highways (Bicycle Path, Privat...</td>\n",
              "      <td>Outside</td>\n",
              "      <td>SA</td>\n",
              "      <td>MT</td>\n",
              "      <td>MT</td>\n",
              "      <td>12.0</td>\n",
              "      <td>BLK</td>\n",
              "      <td>8900.0</td>\n",
              "      <td>STOLEN</td>\n",
              "      <td>{'type': 'MultiPoint', 'coordinates': [[-79.38...</td>\n",
              "    </tr>\n",
              "  </tbody>\n",
              "</table>\n",
              "<p>35325 rows × 28 columns</p>\n",
              "</div>\n",
              "    <div class=\"colab-df-buttons\">\n",
              "\n",
              "  <div class=\"colab-df-container\">\n",
              "    <button class=\"colab-df-convert\" onclick=\"convertToInteractive('df-01c0eb88-b6e7-4c33-99ae-1589570a4342')\"\n",
              "            title=\"Convert this dataframe to an interactive table.\"\n",
              "            style=\"display:none;\">\n",
              "\n",
              "  <svg xmlns=\"http://www.w3.org/2000/svg\" height=\"24px\" viewBox=\"0 -960 960 960\">\n",
              "    <path d=\"M120-120v-720h720v720H120Zm60-500h600v-160H180v160Zm220 220h160v-160H400v160Zm0 220h160v-160H400v160ZM180-400h160v-160H180v160Zm440 0h160v-160H620v160ZM180-180h160v-160H180v160Zm440 0h160v-160H620v160Z\"/>\n",
              "  </svg>\n",
              "    </button>\n",
              "\n",
              "  <style>\n",
              "    .colab-df-container {\n",
              "      display:flex;\n",
              "      gap: 12px;\n",
              "    }\n",
              "\n",
              "    .colab-df-convert {\n",
              "      background-color: #E8F0FE;\n",
              "      border: none;\n",
              "      border-radius: 50%;\n",
              "      cursor: pointer;\n",
              "      display: none;\n",
              "      fill: #1967D2;\n",
              "      height: 32px;\n",
              "      padding: 0 0 0 0;\n",
              "      width: 32px;\n",
              "    }\n",
              "\n",
              "    .colab-df-convert:hover {\n",
              "      background-color: #E2EBFA;\n",
              "      box-shadow: 0px 1px 2px rgba(60, 64, 67, 0.3), 0px 1px 3px 1px rgba(60, 64, 67, 0.15);\n",
              "      fill: #174EA6;\n",
              "    }\n",
              "\n",
              "    .colab-df-buttons div {\n",
              "      margin-bottom: 4px;\n",
              "    }\n",
              "\n",
              "    [theme=dark] .colab-df-convert {\n",
              "      background-color: #3B4455;\n",
              "      fill: #D2E3FC;\n",
              "    }\n",
              "\n",
              "    [theme=dark] .colab-df-convert:hover {\n",
              "      background-color: #434B5C;\n",
              "      box-shadow: 0px 1px 3px 1px rgba(0, 0, 0, 0.15);\n",
              "      filter: drop-shadow(0px 1px 2px rgba(0, 0, 0, 0.3));\n",
              "      fill: #FFFFFF;\n",
              "    }\n",
              "  </style>\n",
              "\n",
              "    <script>\n",
              "      const buttonEl =\n",
              "        document.querySelector('#df-01c0eb88-b6e7-4c33-99ae-1589570a4342 button.colab-df-convert');\n",
              "      buttonEl.style.display =\n",
              "        google.colab.kernel.accessAllowed ? 'block' : 'none';\n",
              "\n",
              "      async function convertToInteractive(key) {\n",
              "        const element = document.querySelector('#df-01c0eb88-b6e7-4c33-99ae-1589570a4342');\n",
              "        const dataTable =\n",
              "          await google.colab.kernel.invokeFunction('convertToInteractive',\n",
              "                                                    [key], {});\n",
              "        if (!dataTable) return;\n",
              "\n",
              "        const docLinkHtml = 'Like what you see? Visit the ' +\n",
              "          '<a target=\"_blank\" href=https://colab.research.google.com/notebooks/data_table.ipynb>data table notebook</a>'\n",
              "          + ' to learn more about interactive tables.';\n",
              "        element.innerHTML = '';\n",
              "        dataTable['output_type'] = 'display_data';\n",
              "        await google.colab.output.renderOutput(dataTable, element);\n",
              "        const docLink = document.createElement('div');\n",
              "        docLink.innerHTML = docLinkHtml;\n",
              "        element.appendChild(docLink);\n",
              "      }\n",
              "    </script>\n",
              "  </div>\n",
              "\n",
              "\n",
              "<div id=\"df-b7675fa6-9ea6-4f4a-8d45-636786affc8d\">\n",
              "  <button class=\"colab-df-quickchart\" onclick=\"quickchart('df-b7675fa6-9ea6-4f4a-8d45-636786affc8d')\"\n",
              "            title=\"Suggest charts\"\n",
              "            style=\"display:none;\">\n",
              "\n",
              "<svg xmlns=\"http://www.w3.org/2000/svg\" height=\"24px\"viewBox=\"0 0 24 24\"\n",
              "     width=\"24px\">\n",
              "    <g>\n",
              "        <path d=\"M19 3H5c-1.1 0-2 .9-2 2v14c0 1.1.9 2 2 2h14c1.1 0 2-.9 2-2V5c0-1.1-.9-2-2-2zM9 17H7v-7h2v7zm4 0h-2V7h2v10zm4 0h-2v-4h2v4z\"/>\n",
              "    </g>\n",
              "</svg>\n",
              "  </button>\n",
              "\n",
              "<style>\n",
              "  .colab-df-quickchart {\n",
              "      --bg-color: #E8F0FE;\n",
              "      --fill-color: #1967D2;\n",
              "      --hover-bg-color: #E2EBFA;\n",
              "      --hover-fill-color: #174EA6;\n",
              "      --disabled-fill-color: #AAA;\n",
              "      --disabled-bg-color: #DDD;\n",
              "  }\n",
              "\n",
              "  [theme=dark] .colab-df-quickchart {\n",
              "      --bg-color: #3B4455;\n",
              "      --fill-color: #D2E3FC;\n",
              "      --hover-bg-color: #434B5C;\n",
              "      --hover-fill-color: #FFFFFF;\n",
              "      --disabled-bg-color: #3B4455;\n",
              "      --disabled-fill-color: #666;\n",
              "  }\n",
              "\n",
              "  .colab-df-quickchart {\n",
              "    background-color: var(--bg-color);\n",
              "    border: none;\n",
              "    border-radius: 50%;\n",
              "    cursor: pointer;\n",
              "    display: none;\n",
              "    fill: var(--fill-color);\n",
              "    height: 32px;\n",
              "    padding: 0;\n",
              "    width: 32px;\n",
              "  }\n",
              "\n",
              "  .colab-df-quickchart:hover {\n",
              "    background-color: var(--hover-bg-color);\n",
              "    box-shadow: 0 1px 2px rgba(60, 64, 67, 0.3), 0 1px 3px 1px rgba(60, 64, 67, 0.15);\n",
              "    fill: var(--button-hover-fill-color);\n",
              "  }\n",
              "\n",
              "  .colab-df-quickchart-complete:disabled,\n",
              "  .colab-df-quickchart-complete:disabled:hover {\n",
              "    background-color: var(--disabled-bg-color);\n",
              "    fill: var(--disabled-fill-color);\n",
              "    box-shadow: none;\n",
              "  }\n",
              "\n",
              "  .colab-df-spinner {\n",
              "    border: 2px solid var(--fill-color);\n",
              "    border-color: transparent;\n",
              "    border-bottom-color: var(--fill-color);\n",
              "    animation:\n",
              "      spin 1s steps(1) infinite;\n",
              "  }\n",
              "\n",
              "  @keyframes spin {\n",
              "    0% {\n",
              "      border-color: transparent;\n",
              "      border-bottom-color: var(--fill-color);\n",
              "      border-left-color: var(--fill-color);\n",
              "    }\n",
              "    20% {\n",
              "      border-color: transparent;\n",
              "      border-left-color: var(--fill-color);\n",
              "      border-top-color: var(--fill-color);\n",
              "    }\n",
              "    30% {\n",
              "      border-color: transparent;\n",
              "      border-left-color: var(--fill-color);\n",
              "      border-top-color: var(--fill-color);\n",
              "      border-right-color: var(--fill-color);\n",
              "    }\n",
              "    40% {\n",
              "      border-color: transparent;\n",
              "      border-right-color: var(--fill-color);\n",
              "      border-top-color: var(--fill-color);\n",
              "    }\n",
              "    60% {\n",
              "      border-color: transparent;\n",
              "      border-right-color: var(--fill-color);\n",
              "    }\n",
              "    80% {\n",
              "      border-color: transparent;\n",
              "      border-right-color: var(--fill-color);\n",
              "      border-bottom-color: var(--fill-color);\n",
              "    }\n",
              "    90% {\n",
              "      border-color: transparent;\n",
              "      border-bottom-color: var(--fill-color);\n",
              "    }\n",
              "  }\n",
              "</style>\n",
              "\n",
              "  <script>\n",
              "    async function quickchart(key) {\n",
              "      const quickchartButtonEl =\n",
              "        document.querySelector('#' + key + ' button');\n",
              "      quickchartButtonEl.disabled = true;  // To prevent multiple clicks.\n",
              "      quickchartButtonEl.classList.add('colab-df-spinner');\n",
              "      try {\n",
              "        const charts = await google.colab.kernel.invokeFunction(\n",
              "            'suggestCharts', [key], {});\n",
              "      } catch (error) {\n",
              "        console.error('Error during call to suggestCharts:', error);\n",
              "      }\n",
              "      quickchartButtonEl.classList.remove('colab-df-spinner');\n",
              "      quickchartButtonEl.classList.add('colab-df-quickchart-complete');\n",
              "    }\n",
              "    (() => {\n",
              "      let quickchartButtonEl =\n",
              "        document.querySelector('#df-b7675fa6-9ea6-4f4a-8d45-636786affc8d button');\n",
              "      quickchartButtonEl.style.display =\n",
              "        google.colab.kernel.accessAllowed ? 'block' : 'none';\n",
              "    })();\n",
              "  </script>\n",
              "</div>\n",
              "\n",
              "  <div id=\"id_ac6498be-b987-448c-98d9-a11312a71633\">\n",
              "    <style>\n",
              "      .colab-df-generate {\n",
              "        background-color: #E8F0FE;\n",
              "        border: none;\n",
              "        border-radius: 50%;\n",
              "        cursor: pointer;\n",
              "        display: none;\n",
              "        fill: #1967D2;\n",
              "        height: 32px;\n",
              "        padding: 0 0 0 0;\n",
              "        width: 32px;\n",
              "      }\n",
              "\n",
              "      .colab-df-generate:hover {\n",
              "        background-color: #E2EBFA;\n",
              "        box-shadow: 0px 1px 2px rgba(60, 64, 67, 0.3), 0px 1px 3px 1px rgba(60, 64, 67, 0.15);\n",
              "        fill: #174EA6;\n",
              "      }\n",
              "\n",
              "      [theme=dark] .colab-df-generate {\n",
              "        background-color: #3B4455;\n",
              "        fill: #D2E3FC;\n",
              "      }\n",
              "\n",
              "      [theme=dark] .colab-df-generate:hover {\n",
              "        background-color: #434B5C;\n",
              "        box-shadow: 0px 1px 3px 1px rgba(0, 0, 0, 0.15);\n",
              "        filter: drop-shadow(0px 1px 2px rgba(0, 0, 0, 0.3));\n",
              "        fill: #FFFFFF;\n",
              "      }\n",
              "    </style>\n",
              "    <button class=\"colab-df-generate\" onclick=\"generateWithVariable('thefts')\"\n",
              "            title=\"Generate code using this dataframe.\"\n",
              "            style=\"display:none;\">\n",
              "\n",
              "  <svg xmlns=\"http://www.w3.org/2000/svg\" height=\"24px\"viewBox=\"0 0 24 24\"\n",
              "       width=\"24px\">\n",
              "    <path d=\"M7,19H8.4L18.45,9,17,7.55,7,17.6ZM5,21V16.75L18.45,3.32a2,2,0,0,1,2.83,0l1.4,1.43a1.91,1.91,0,0,1,.58,1.4,1.91,1.91,0,0,1-.58,1.4L9.25,21ZM18.45,9,17,7.55Zm-12,3A5.31,5.31,0,0,0,4.9,8.1,5.31,5.31,0,0,0,1,6.5,5.31,5.31,0,0,0,4.9,4.9,5.31,5.31,0,0,0,6.5,1,5.31,5.31,0,0,0,8.1,4.9,5.31,5.31,0,0,0,12,6.5,5.46,5.46,0,0,0,6.5,12Z\"/>\n",
              "  </svg>\n",
              "    </button>\n",
              "    <script>\n",
              "      (() => {\n",
              "      const buttonEl =\n",
              "        document.querySelector('#id_ac6498be-b987-448c-98d9-a11312a71633 button.colab-df-generate');\n",
              "      buttonEl.style.display =\n",
              "        google.colab.kernel.accessAllowed ? 'block' : 'none';\n",
              "\n",
              "      buttonEl.onclick = () => {\n",
              "        google.colab.notebook.generateWithVariable('thefts');\n",
              "      }\n",
              "      })();\n",
              "    </script>\n",
              "  </div>\n",
              "\n",
              "    </div>\n",
              "  </div>\n"
            ],
            "application/vnd.google.colaboratory.intrinsic+json": {
              "type": "dataframe",
              "variable_name": "thefts"
            }
          },
          "metadata": {},
          "execution_count": 86
        }
      ]
    },
    {
      "cell_type": "markdown",
      "source": [
        "### Profiling and initial data cleaning\n",
        "We got our data, but now we need to understand what's in it. We can start to understand the DataFrame by checking out its `dtypes` and `shape` attributes, which give column data types and row by column dimensions, respectively. Note that `object` is `pandas`' way of saying values are represented as string data.\n",
        "\n"
      ],
      "metadata": {
        "id": "I5abaR5Hp_HL"
      }
    },
    {
      "cell_type": "code",
      "source": [
        "thefts.shape"
      ],
      "metadata": {
        "id": "LMwWGKzGqZ-j",
        "colab": {
          "base_uri": "https://localhost:8080/"
        },
        "outputId": "5f5dc433-2602-4141-87bb-596d9b657023"
      },
      "execution_count": null,
      "outputs": [
        {
          "output_type": "execute_result",
          "data": {
            "text/plain": [
              "(35325, 28)"
            ]
          },
          "metadata": {},
          "execution_count": 88
        }
      ]
    },
    {
      "cell_type": "code",
      "source": [
        "thefts.dtypes"
      ],
      "metadata": {
        "id": "PnEBkVeqqfh8",
        "colab": {
          "base_uri": "https://localhost:8080/"
        },
        "outputId": "14c4d708-8c1b-43b0-8fc2-714a894ddc9f"
      },
      "execution_count": null,
      "outputs": [
        {
          "output_type": "execute_result",
          "data": {
            "text/plain": [
              "_id                  int64\n",
              "EVENT_UNIQUE_ID     object\n",
              "PRIMARY_OFFENCE     object\n",
              "OCC_DATE            object\n",
              "OCC_YEAR             int64\n",
              "OCC_MONTH           object\n",
              "OCC_DOW             object\n",
              "OCC_DAY              int64\n",
              "OCC_DOY              int64\n",
              "OCC_HOUR             int64\n",
              "REPORT_DATE         object\n",
              "REPORT_YEAR          int64\n",
              "REPORT_MONTH        object\n",
              "REPORT_DOW          object\n",
              "REPORT_DAY           int64\n",
              "REPORT_DOY           int64\n",
              "REPORT_HOUR          int64\n",
              "DIVISION            object\n",
              "LOCATION_TYPE       object\n",
              "PREMISES_TYPE       object\n",
              "BIKE_MAKE           object\n",
              "BIKE_MODEL          object\n",
              "BIKE_TYPE           object\n",
              "BIKE_SPEED         float64\n",
              "BIKE_COLOUR         object\n",
              "BIKE_COST          float64\n",
              "STATUS              object\n",
              "geometry            object\n",
              "dtype: object"
            ]
          },
          "metadata": {},
          "execution_count": 89
        }
      ]
    },
    {
      "cell_type": "code",
      "source": [
        "thefts.info()"
      ],
      "metadata": {
        "id": "M0ort3_2uXiA",
        "colab": {
          "base_uri": "https://localhost:8080/"
        },
        "outputId": "ab85d951-96b8-4715-843c-16da6de22c1b"
      },
      "execution_count": null,
      "outputs": [
        {
          "output_type": "stream",
          "name": "stdout",
          "text": [
            "<class 'pandas.core.frame.DataFrame'>\n",
            "RangeIndex: 35325 entries, 0 to 35324\n",
            "Data columns (total 28 columns):\n",
            " #   Column           Non-Null Count  Dtype  \n",
            "---  ------           --------------  -----  \n",
            " 0   _id              35325 non-null  int64  \n",
            " 1   EVENT_UNIQUE_ID  35325 non-null  object \n",
            " 2   PRIMARY_OFFENCE  35325 non-null  object \n",
            " 3   OCC_DATE         5888 non-null   object \n",
            " 4   OCC_YEAR         35325 non-null  int64  \n",
            " 5   OCC_MONTH        35325 non-null  object \n",
            " 6   OCC_DOW          35325 non-null  object \n",
            " 7   OCC_DAY          35325 non-null  int64  \n",
            " 8   OCC_DOY          35325 non-null  int64  \n",
            " 9   OCC_HOUR         35325 non-null  int64  \n",
            " 10  REPORT_DATE      5923 non-null   object \n",
            " 11  REPORT_YEAR      35325 non-null  int64  \n",
            " 12  REPORT_MONTH     35325 non-null  object \n",
            " 13  REPORT_DOW       35325 non-null  object \n",
            " 14  REPORT_DAY       35325 non-null  int64  \n",
            " 15  REPORT_DOY       35325 non-null  int64  \n",
            " 16  REPORT_HOUR      35325 non-null  int64  \n",
            " 17  DIVISION         35325 non-null  object \n",
            " 18  LOCATION_TYPE    35325 non-null  object \n",
            " 19  PREMISES_TYPE    35325 non-null  object \n",
            " 20  BIKE_MAKE        35152 non-null  object \n",
            " 21  BIKE_MODEL       22148 non-null  object \n",
            " 22  BIKE_TYPE        35325 non-null  object \n",
            " 23  BIKE_SPEED       34693 non-null  float64\n",
            " 24  BIKE_COLOUR      32234 non-null  object \n",
            " 25  BIKE_COST        32926 non-null  float64\n",
            " 26  STATUS           35325 non-null  object \n",
            " 27  geometry         35325 non-null  object \n",
            "dtypes: float64(2), int64(9), object(17)\n",
            "memory usage: 7.5+ MB\n"
          ]
        }
      ]
    },
    {
      "cell_type": "markdown",
      "source": [
        "## Profiling columns\n",
        "It can be useful to focus on a subset of columns, particularly to understand value sets.\n"
      ],
      "metadata": {
        "id": "bdiJAoLsq5r7"
      }
    },
    {
      "cell_type": "code",
      "source": [
        "thefts['STATUS']"
      ],
      "metadata": {
        "id": "ecD1bIdwrNyB",
        "colab": {
          "base_uri": "https://localhost:8080/"
        },
        "outputId": "61b9f53d-4171-4119-df49-b828c0a2f54b"
      },
      "execution_count": null,
      "outputs": [
        {
          "output_type": "execute_result",
          "data": {
            "text/plain": [
              "0        RECOVERED\n",
              "1           STOLEN\n",
              "2           STOLEN\n",
              "3           STOLEN\n",
              "4           STOLEN\n",
              "           ...    \n",
              "35320      UNKNOWN\n",
              "35321       STOLEN\n",
              "35322       STOLEN\n",
              "35323       STOLEN\n",
              "35324       STOLEN\n",
              "Name: STATUS, Length: 35325, dtype: object"
            ]
          },
          "metadata": {},
          "execution_count": 91
        }
      ]
    },
    {
      "cell_type": "markdown",
      "source": [
        "\n",
        "To get unique values, we can use the `unique()` Series method. If we want to count how many times each value appears, we can use the `value_counts()` method."
      ],
      "metadata": {
        "id": "hTIVC9-1rMm9"
      }
    },
    {
      "cell_type": "code",
      "source": [
        "thefts['STATUS'].unique()"
      ],
      "metadata": {
        "id": "_fvo3PJqro7P",
        "colab": {
          "base_uri": "https://localhost:8080/"
        },
        "outputId": "6a83a156-24f3-41b5-87c5-ea0b72ef5d3b"
      },
      "execution_count": null,
      "outputs": [
        {
          "output_type": "execute_result",
          "data": {
            "text/plain": [
              "array(['RECOVERED', 'STOLEN', 'UNKNOWN'], dtype=object)"
            ]
          },
          "metadata": {},
          "execution_count": 92
        }
      ]
    },
    {
      "cell_type": "code",
      "source": [
        "thefts['STATUS'].value_counts()"
      ],
      "metadata": {
        "id": "sqq1MA1arxnT",
        "colab": {
          "base_uri": "https://localhost:8080/"
        },
        "outputId": "359526d3-5c1e-4836-9b84-3c386f996482"
      },
      "execution_count": null,
      "outputs": [
        {
          "output_type": "execute_result",
          "data": {
            "text/plain": [
              "STATUS\n",
              "STOLEN       34359\n",
              "UNKNOWN        593\n",
              "RECOVERED      373\n",
              "Name: count, dtype: int64"
            ]
          },
          "metadata": {},
          "execution_count": 93
        }
      ]
    },
    {
      "cell_type": "markdown",
      "source": [
        "We can summarize numeric Series much like we did with `numpy` functions.\n",
        "\n"
      ],
      "metadata": {
        "id": "ha0v1h9Zr12o"
      }
    },
    {
      "cell_type": "code",
      "source": [
        "thefts['BIKE_COST'].mean()"
      ],
      "metadata": {
        "id": "THa9VwW5r7OU",
        "colab": {
          "base_uri": "https://localhost:8080/"
        },
        "outputId": "c5d62104-79aa-4a22-e6d4-825e8c04e892"
      },
      "execution_count": null,
      "outputs": [
        {
          "output_type": "execute_result",
          "data": {
            "text/plain": [
              "999.4065437648059"
            ]
          },
          "metadata": {},
          "execution_count": 94
        }
      ]
    },
    {
      "cell_type": "markdown",
      "source": [
        "## Changing data types:\n",
        "Sometimes we would like to change the type of one or more variables.\n",
        "For example to convert a column to datetime, we use the `pd.to_datetime()` function, passing in the column to convert, and reassign the output back to the column we're converting.\n",
        "\n",
        "`pandas` knows how to convert the dates in the bike thefts data, but for less common formats, it is necessary to use the format keyword argument to specify how dates should be parsed. format strings use strftime codes. See: https://strftime.org/ for a cheat sheet."
      ],
      "metadata": {
        "id": "XL6dhDEaujbu"
      }
    },
    {
      "cell_type": "code",
      "source": [
        "thefts['OCC_DATE'] = pd.to_datetime(thefts['OCC_DATE'], format='%Y-%m-%d', errors='coerce')\n",
        "thefts['OCC_DATE']"
      ],
      "metadata": {
        "id": "GNZOrzqDwtr4",
        "colab": {
          "base_uri": "https://localhost:8080/"
        },
        "outputId": "691109f9-844e-4065-ebf8-c956fa906927"
      },
      "execution_count": null,
      "outputs": [
        {
          "output_type": "execute_result",
          "data": {
            "text/plain": [
              "2              NaT\n",
              "3              NaT\n",
              "4              NaT\n",
              "5              NaT\n",
              "6              NaT\n",
              "           ...    \n",
              "35320          NaT\n",
              "35321          NaT\n",
              "35322          NaT\n",
              "35323   1710-09-07\n",
              "35324   1710-09-07\n",
              "Name: OCC_DATE, Length: 32926, dtype: datetime64[ns]"
            ]
          },
          "metadata": {},
          "execution_count": 117
        }
      ]
    },
    {
      "cell_type": "markdown",
      "source": [
        "All other data type conversions can be done with the `astype()` method. If we were converting to a number,` pd.to_numeric()` provides an easy way to convert without having to pick a specific numeric data type. We can also covert variables to category data type"
      ],
      "metadata": {
        "id": "jrCFBuyPxG2L"
      }
    },
    {
      "cell_type": "code",
      "source": [
        "thefts['STATUS'] = thefts['STATUS'].astype('category')\n",
        "thefts['STATUS']"
      ],
      "metadata": {
        "id": "DviijfRgxGF9",
        "colab": {
          "base_uri": "https://localhost:8080/"
        },
        "outputId": "cec72ee6-193d-4a75-d92e-543a096e66ae"
      },
      "execution_count": null,
      "outputs": [
        {
          "output_type": "execute_result",
          "data": {
            "text/plain": [
              "0        RECOVERED\n",
              "1           STOLEN\n",
              "2           STOLEN\n",
              "3           STOLEN\n",
              "4           STOLEN\n",
              "           ...    \n",
              "35320      UNKNOWN\n",
              "35321       STOLEN\n",
              "35322       STOLEN\n",
              "35323       STOLEN\n",
              "35324       STOLEN\n",
              "Name: STATUS, Length: 35325, dtype: category\n",
              "Categories (3, object): ['RECOVERED', 'STOLEN', 'UNKNOWN']"
            ]
          },
          "metadata": {},
          "execution_count": 98
        }
      ]
    },
    {
      "cell_type": "markdown",
      "source": [
        "## Filtering and selecting data\n",
        "\n",
        "To find the records with no line, we can use `.loc[]`, which lets us access rows and columns with either a boolean array or row/column labels.\n",
        "\n",
        "In this case, the boolean array is the product of the `isna()` Series method."
      ],
      "metadata": {
        "id": "xG3BKTgYsVfQ"
      }
    },
    {
      "cell_type": "code",
      "source": [
        "thefts.loc[thefts['BIKE_COST'].isna()]"
      ],
      "metadata": {
        "id": "oBQUpFxyuBZa",
        "colab": {
          "base_uri": "https://localhost:8080/",
          "height": 964
        },
        "outputId": "b80c2360-9cbe-4dc3-9b9b-88714d989cff"
      },
      "execution_count": null,
      "outputs": [
        {
          "output_type": "execute_result",
          "data": {
            "text/plain": [
              "         _id EVENT_UNIQUE_ID        PRIMARY_OFFENCE OCC_DATE  OCC_YEAR  \\\n",
              "0          1  GO-20141263784       PROPERTY - FOUND      NaN      2014   \n",
              "1          2  GO-20141261431            THEFT UNDER      NaN      2014   \n",
              "45        46  GO-20141427259                    B&E      NaN      2014   \n",
              "48        49  GO-20141432628            THEFT UNDER      NaN      2014   \n",
              "50        51  GO-20149000905            THEFT UNDER      NaN      2014   \n",
              "...      ...             ...                    ...      ...       ...   \n",
              "35171  35172   GO-2024409976            THEFT UNDER      NaN      2024   \n",
              "35182  35183   GO-2024431477  THEFT UNDER - BICYCLE      NaN      2024   \n",
              "35210  35211   GO-2024491772  THEFT UNDER - BICYCLE      NaN      2024   \n",
              "35218  35219   GO-2024512227                    B&E      NaN      2024   \n",
              "35319  35320   GO-2024681994                    B&E      NaN      2023   \n",
              "\n",
              "      OCC_MONTH    OCC_DOW  OCC_DAY  OCC_DOY  OCC_HOUR  ...  \\\n",
              "0       January  Wednesday        1        1        18  ...   \n",
              "1       January  Wednesday        1        1         7  ...   \n",
              "45      January    Tuesday       28       28        19  ...   \n",
              "48      January    Tuesday       28       28        15  ...   \n",
              "50      January     Friday       31       31        11  ...   \n",
              "...         ...        ...      ...      ...       ...  ...   \n",
              "35171  February     Friday       23       54        14  ...   \n",
              "35182  February   Saturday       24       55        20  ...   \n",
              "35210   January  Wednesday       31       31        18  ...   \n",
              "35218     March     Monday        4       64        14  ...   \n",
              "35319  December     Monday       18      352        12  ...   \n",
              "\n",
              "                                           LOCATION_TYPE  PREMISES_TYPE  \\\n",
              "0      Single Home, House (Attach Garage, Cottage, Mo...          House   \n",
              "1                       Apartment (Rooming House, Condo)      Apartment   \n",
              "45                      Apartment (Rooming House, Condo)      Apartment   \n",
              "48     Other Commercial / Corporate Places (For Profi...     Commercial   \n",
              "50                                    Ttc Subway Station        Transit   \n",
              "...                                                  ...            ...   \n",
              "35171  Streets, Roads, Highways (Bicycle Path, Privat...        Outside   \n",
              "35182                   Apartment (Rooming House, Condo)      Apartment   \n",
              "35210                   Apartment (Rooming House, Condo)      Apartment   \n",
              "35218  Private Property Structure (Pool, Shed, Detach...          Other   \n",
              "35319                   Apartment (Rooming House, Condo)      Apartment   \n",
              "\n",
              "        BIKE_MAKE     BIKE_MODEL  BIKE_TYPE  BIKE_SPEED  BIKE_COLOUR  \\\n",
              "0            TREK         SOHO S         RG         1.0          BLK   \n",
              "1      SUPERCYCLE            NaN         MT        10.0          NaN   \n",
              "45          OTHER            NaN         MT        10.0          BLK   \n",
              "48         CUSTOM            NaN         OT         0.0          BLU   \n",
              "50             OT  MONT STE-ANNE         MT        18.0          NaN   \n",
              "...           ...            ...        ...         ...          ...   \n",
              "35171       OTHER            NaN         RG         1.0       BLKONG   \n",
              "35182       OTHER            NaN         OT        12.0          ONG   \n",
              "35210       VEVOR            NaN         TR         1.0          YEL   \n",
              "35218        TREK            FX1         RG         1.0          BLK   \n",
              "35319     UNKNOWN            NaN         OT         0.0          NaN   \n",
              "\n",
              "      BIKE_COST     STATUS                                           geometry  \n",
              "0           NaN  RECOVERED  {'type': 'MultiPoint', 'coordinates': [[-79.41...  \n",
              "1           NaN     STOLEN  {'type': 'MultiPoint', 'coordinates': [[-79.44...  \n",
              "45          NaN     STOLEN  {'type': 'MultiPoint', 'coordinates': [[-79.49...  \n",
              "48          NaN     STOLEN  {'type': 'MultiPoint', 'coordinates': [[-79.36...  \n",
              "50          NaN     STOLEN  {'type': 'MultiPoint', 'coordinates': [[-79.43...  \n",
              "...         ...        ...                                                ...  \n",
              "35171       NaN     STOLEN  {'type': 'MultiPoint', 'coordinates': [[-79.39...  \n",
              "35182       NaN     STOLEN  {'type': 'MultiPoint', 'coordinates': [[-79.38...  \n",
              "35210       NaN     STOLEN  {'type': 'MultiPoint', 'coordinates': [[-79.45...  \n",
              "35218       NaN     STOLEN  {'type': 'MultiPoint', 'coordinates': [[-79.47...  \n",
              "35319       NaN     STOLEN  {'type': 'MultiPoint', 'coordinates': [[-79.42...  \n",
              "\n",
              "[2399 rows x 28 columns]"
            ],
            "text/html": [
              "\n",
              "  <div id=\"df-2a6c8d22-c953-45d2-8b12-1a156c0bf438\" class=\"colab-df-container\">\n",
              "    <div>\n",
              "<style scoped>\n",
              "    .dataframe tbody tr th:only-of-type {\n",
              "        vertical-align: middle;\n",
              "    }\n",
              "\n",
              "    .dataframe tbody tr th {\n",
              "        vertical-align: top;\n",
              "    }\n",
              "\n",
              "    .dataframe thead th {\n",
              "        text-align: right;\n",
              "    }\n",
              "</style>\n",
              "<table border=\"1\" class=\"dataframe\">\n",
              "  <thead>\n",
              "    <tr style=\"text-align: right;\">\n",
              "      <th></th>\n",
              "      <th>_id</th>\n",
              "      <th>EVENT_UNIQUE_ID</th>\n",
              "      <th>PRIMARY_OFFENCE</th>\n",
              "      <th>OCC_DATE</th>\n",
              "      <th>OCC_YEAR</th>\n",
              "      <th>OCC_MONTH</th>\n",
              "      <th>OCC_DOW</th>\n",
              "      <th>OCC_DAY</th>\n",
              "      <th>OCC_DOY</th>\n",
              "      <th>OCC_HOUR</th>\n",
              "      <th>...</th>\n",
              "      <th>LOCATION_TYPE</th>\n",
              "      <th>PREMISES_TYPE</th>\n",
              "      <th>BIKE_MAKE</th>\n",
              "      <th>BIKE_MODEL</th>\n",
              "      <th>BIKE_TYPE</th>\n",
              "      <th>BIKE_SPEED</th>\n",
              "      <th>BIKE_COLOUR</th>\n",
              "      <th>BIKE_COST</th>\n",
              "      <th>STATUS</th>\n",
              "      <th>geometry</th>\n",
              "    </tr>\n",
              "  </thead>\n",
              "  <tbody>\n",
              "    <tr>\n",
              "      <th>0</th>\n",
              "      <td>1</td>\n",
              "      <td>GO-20141263784</td>\n",
              "      <td>PROPERTY - FOUND</td>\n",
              "      <td>NaN</td>\n",
              "      <td>2014</td>\n",
              "      <td>January</td>\n",
              "      <td>Wednesday</td>\n",
              "      <td>1</td>\n",
              "      <td>1</td>\n",
              "      <td>18</td>\n",
              "      <td>...</td>\n",
              "      <td>Single Home, House (Attach Garage, Cottage, Mo...</td>\n",
              "      <td>House</td>\n",
              "      <td>TREK</td>\n",
              "      <td>SOHO S</td>\n",
              "      <td>RG</td>\n",
              "      <td>1.0</td>\n",
              "      <td>BLK</td>\n",
              "      <td>NaN</td>\n",
              "      <td>RECOVERED</td>\n",
              "      <td>{'type': 'MultiPoint', 'coordinates': [[-79.41...</td>\n",
              "    </tr>\n",
              "    <tr>\n",
              "      <th>1</th>\n",
              "      <td>2</td>\n",
              "      <td>GO-20141261431</td>\n",
              "      <td>THEFT UNDER</td>\n",
              "      <td>NaN</td>\n",
              "      <td>2014</td>\n",
              "      <td>January</td>\n",
              "      <td>Wednesday</td>\n",
              "      <td>1</td>\n",
              "      <td>1</td>\n",
              "      <td>7</td>\n",
              "      <td>...</td>\n",
              "      <td>Apartment (Rooming House, Condo)</td>\n",
              "      <td>Apartment</td>\n",
              "      <td>SUPERCYCLE</td>\n",
              "      <td>NaN</td>\n",
              "      <td>MT</td>\n",
              "      <td>10.0</td>\n",
              "      <td>NaN</td>\n",
              "      <td>NaN</td>\n",
              "      <td>STOLEN</td>\n",
              "      <td>{'type': 'MultiPoint', 'coordinates': [[-79.44...</td>\n",
              "    </tr>\n",
              "    <tr>\n",
              "      <th>45</th>\n",
              "      <td>46</td>\n",
              "      <td>GO-20141427259</td>\n",
              "      <td>B&amp;E</td>\n",
              "      <td>NaN</td>\n",
              "      <td>2014</td>\n",
              "      <td>January</td>\n",
              "      <td>Tuesday</td>\n",
              "      <td>28</td>\n",
              "      <td>28</td>\n",
              "      <td>19</td>\n",
              "      <td>...</td>\n",
              "      <td>Apartment (Rooming House, Condo)</td>\n",
              "      <td>Apartment</td>\n",
              "      <td>OTHER</td>\n",
              "      <td>NaN</td>\n",
              "      <td>MT</td>\n",
              "      <td>10.0</td>\n",
              "      <td>BLK</td>\n",
              "      <td>NaN</td>\n",
              "      <td>STOLEN</td>\n",
              "      <td>{'type': 'MultiPoint', 'coordinates': [[-79.49...</td>\n",
              "    </tr>\n",
              "    <tr>\n",
              "      <th>48</th>\n",
              "      <td>49</td>\n",
              "      <td>GO-20141432628</td>\n",
              "      <td>THEFT UNDER</td>\n",
              "      <td>NaN</td>\n",
              "      <td>2014</td>\n",
              "      <td>January</td>\n",
              "      <td>Tuesday</td>\n",
              "      <td>28</td>\n",
              "      <td>28</td>\n",
              "      <td>15</td>\n",
              "      <td>...</td>\n",
              "      <td>Other Commercial / Corporate Places (For Profi...</td>\n",
              "      <td>Commercial</td>\n",
              "      <td>CUSTOM</td>\n",
              "      <td>NaN</td>\n",
              "      <td>OT</td>\n",
              "      <td>0.0</td>\n",
              "      <td>BLU</td>\n",
              "      <td>NaN</td>\n",
              "      <td>STOLEN</td>\n",
              "      <td>{'type': 'MultiPoint', 'coordinates': [[-79.36...</td>\n",
              "    </tr>\n",
              "    <tr>\n",
              "      <th>50</th>\n",
              "      <td>51</td>\n",
              "      <td>GO-20149000905</td>\n",
              "      <td>THEFT UNDER</td>\n",
              "      <td>NaN</td>\n",
              "      <td>2014</td>\n",
              "      <td>January</td>\n",
              "      <td>Friday</td>\n",
              "      <td>31</td>\n",
              "      <td>31</td>\n",
              "      <td>11</td>\n",
              "      <td>...</td>\n",
              "      <td>Ttc Subway Station</td>\n",
              "      <td>Transit</td>\n",
              "      <td>OT</td>\n",
              "      <td>MONT STE-ANNE</td>\n",
              "      <td>MT</td>\n",
              "      <td>18.0</td>\n",
              "      <td>NaN</td>\n",
              "      <td>NaN</td>\n",
              "      <td>STOLEN</td>\n",
              "      <td>{'type': 'MultiPoint', 'coordinates': [[-79.43...</td>\n",
              "    </tr>\n",
              "    <tr>\n",
              "      <th>...</th>\n",
              "      <td>...</td>\n",
              "      <td>...</td>\n",
              "      <td>...</td>\n",
              "      <td>...</td>\n",
              "      <td>...</td>\n",
              "      <td>...</td>\n",
              "      <td>...</td>\n",
              "      <td>...</td>\n",
              "      <td>...</td>\n",
              "      <td>...</td>\n",
              "      <td>...</td>\n",
              "      <td>...</td>\n",
              "      <td>...</td>\n",
              "      <td>...</td>\n",
              "      <td>...</td>\n",
              "      <td>...</td>\n",
              "      <td>...</td>\n",
              "      <td>...</td>\n",
              "      <td>...</td>\n",
              "      <td>...</td>\n",
              "      <td>...</td>\n",
              "    </tr>\n",
              "    <tr>\n",
              "      <th>35171</th>\n",
              "      <td>35172</td>\n",
              "      <td>GO-2024409976</td>\n",
              "      <td>THEFT UNDER</td>\n",
              "      <td>NaN</td>\n",
              "      <td>2024</td>\n",
              "      <td>February</td>\n",
              "      <td>Friday</td>\n",
              "      <td>23</td>\n",
              "      <td>54</td>\n",
              "      <td>14</td>\n",
              "      <td>...</td>\n",
              "      <td>Streets, Roads, Highways (Bicycle Path, Privat...</td>\n",
              "      <td>Outside</td>\n",
              "      <td>OTHER</td>\n",
              "      <td>NaN</td>\n",
              "      <td>RG</td>\n",
              "      <td>1.0</td>\n",
              "      <td>BLKONG</td>\n",
              "      <td>NaN</td>\n",
              "      <td>STOLEN</td>\n",
              "      <td>{'type': 'MultiPoint', 'coordinates': [[-79.39...</td>\n",
              "    </tr>\n",
              "    <tr>\n",
              "      <th>35182</th>\n",
              "      <td>35183</td>\n",
              "      <td>GO-2024431477</td>\n",
              "      <td>THEFT UNDER - BICYCLE</td>\n",
              "      <td>NaN</td>\n",
              "      <td>2024</td>\n",
              "      <td>February</td>\n",
              "      <td>Saturday</td>\n",
              "      <td>24</td>\n",
              "      <td>55</td>\n",
              "      <td>20</td>\n",
              "      <td>...</td>\n",
              "      <td>Apartment (Rooming House, Condo)</td>\n",
              "      <td>Apartment</td>\n",
              "      <td>OTHER</td>\n",
              "      <td>NaN</td>\n",
              "      <td>OT</td>\n",
              "      <td>12.0</td>\n",
              "      <td>ONG</td>\n",
              "      <td>NaN</td>\n",
              "      <td>STOLEN</td>\n",
              "      <td>{'type': 'MultiPoint', 'coordinates': [[-79.38...</td>\n",
              "    </tr>\n",
              "    <tr>\n",
              "      <th>35210</th>\n",
              "      <td>35211</td>\n",
              "      <td>GO-2024491772</td>\n",
              "      <td>THEFT UNDER - BICYCLE</td>\n",
              "      <td>NaN</td>\n",
              "      <td>2024</td>\n",
              "      <td>January</td>\n",
              "      <td>Wednesday</td>\n",
              "      <td>31</td>\n",
              "      <td>31</td>\n",
              "      <td>18</td>\n",
              "      <td>...</td>\n",
              "      <td>Apartment (Rooming House, Condo)</td>\n",
              "      <td>Apartment</td>\n",
              "      <td>VEVOR</td>\n",
              "      <td>NaN</td>\n",
              "      <td>TR</td>\n",
              "      <td>1.0</td>\n",
              "      <td>YEL</td>\n",
              "      <td>NaN</td>\n",
              "      <td>STOLEN</td>\n",
              "      <td>{'type': 'MultiPoint', 'coordinates': [[-79.45...</td>\n",
              "    </tr>\n",
              "    <tr>\n",
              "      <th>35218</th>\n",
              "      <td>35219</td>\n",
              "      <td>GO-2024512227</td>\n",
              "      <td>B&amp;E</td>\n",
              "      <td>NaN</td>\n",
              "      <td>2024</td>\n",
              "      <td>March</td>\n",
              "      <td>Monday</td>\n",
              "      <td>4</td>\n",
              "      <td>64</td>\n",
              "      <td>14</td>\n",
              "      <td>...</td>\n",
              "      <td>Private Property Structure (Pool, Shed, Detach...</td>\n",
              "      <td>Other</td>\n",
              "      <td>TREK</td>\n",
              "      <td>FX1</td>\n",
              "      <td>RG</td>\n",
              "      <td>1.0</td>\n",
              "      <td>BLK</td>\n",
              "      <td>NaN</td>\n",
              "      <td>STOLEN</td>\n",
              "      <td>{'type': 'MultiPoint', 'coordinates': [[-79.47...</td>\n",
              "    </tr>\n",
              "    <tr>\n",
              "      <th>35319</th>\n",
              "      <td>35320</td>\n",
              "      <td>GO-2024681994</td>\n",
              "      <td>B&amp;E</td>\n",
              "      <td>NaN</td>\n",
              "      <td>2023</td>\n",
              "      <td>December</td>\n",
              "      <td>Monday</td>\n",
              "      <td>18</td>\n",
              "      <td>352</td>\n",
              "      <td>12</td>\n",
              "      <td>...</td>\n",
              "      <td>Apartment (Rooming House, Condo)</td>\n",
              "      <td>Apartment</td>\n",
              "      <td>UNKNOWN</td>\n",
              "      <td>NaN</td>\n",
              "      <td>OT</td>\n",
              "      <td>0.0</td>\n",
              "      <td>NaN</td>\n",
              "      <td>NaN</td>\n",
              "      <td>STOLEN</td>\n",
              "      <td>{'type': 'MultiPoint', 'coordinates': [[-79.42...</td>\n",
              "    </tr>\n",
              "  </tbody>\n",
              "</table>\n",
              "<p>2399 rows × 28 columns</p>\n",
              "</div>\n",
              "    <div class=\"colab-df-buttons\">\n",
              "\n",
              "  <div class=\"colab-df-container\">\n",
              "    <button class=\"colab-df-convert\" onclick=\"convertToInteractive('df-2a6c8d22-c953-45d2-8b12-1a156c0bf438')\"\n",
              "            title=\"Convert this dataframe to an interactive table.\"\n",
              "            style=\"display:none;\">\n",
              "\n",
              "  <svg xmlns=\"http://www.w3.org/2000/svg\" height=\"24px\" viewBox=\"0 -960 960 960\">\n",
              "    <path d=\"M120-120v-720h720v720H120Zm60-500h600v-160H180v160Zm220 220h160v-160H400v160Zm0 220h160v-160H400v160ZM180-400h160v-160H180v160Zm440 0h160v-160H620v160ZM180-180h160v-160H180v160Zm440 0h160v-160H620v160Z\"/>\n",
              "  </svg>\n",
              "    </button>\n",
              "\n",
              "  <style>\n",
              "    .colab-df-container {\n",
              "      display:flex;\n",
              "      gap: 12px;\n",
              "    }\n",
              "\n",
              "    .colab-df-convert {\n",
              "      background-color: #E8F0FE;\n",
              "      border: none;\n",
              "      border-radius: 50%;\n",
              "      cursor: pointer;\n",
              "      display: none;\n",
              "      fill: #1967D2;\n",
              "      height: 32px;\n",
              "      padding: 0 0 0 0;\n",
              "      width: 32px;\n",
              "    }\n",
              "\n",
              "    .colab-df-convert:hover {\n",
              "      background-color: #E2EBFA;\n",
              "      box-shadow: 0px 1px 2px rgba(60, 64, 67, 0.3), 0px 1px 3px 1px rgba(60, 64, 67, 0.15);\n",
              "      fill: #174EA6;\n",
              "    }\n",
              "\n",
              "    .colab-df-buttons div {\n",
              "      margin-bottom: 4px;\n",
              "    }\n",
              "\n",
              "    [theme=dark] .colab-df-convert {\n",
              "      background-color: #3B4455;\n",
              "      fill: #D2E3FC;\n",
              "    }\n",
              "\n",
              "    [theme=dark] .colab-df-convert:hover {\n",
              "      background-color: #434B5C;\n",
              "      box-shadow: 0px 1px 3px 1px rgba(0, 0, 0, 0.15);\n",
              "      filter: drop-shadow(0px 1px 2px rgba(0, 0, 0, 0.3));\n",
              "      fill: #FFFFFF;\n",
              "    }\n",
              "  </style>\n",
              "\n",
              "    <script>\n",
              "      const buttonEl =\n",
              "        document.querySelector('#df-2a6c8d22-c953-45d2-8b12-1a156c0bf438 button.colab-df-convert');\n",
              "      buttonEl.style.display =\n",
              "        google.colab.kernel.accessAllowed ? 'block' : 'none';\n",
              "\n",
              "      async function convertToInteractive(key) {\n",
              "        const element = document.querySelector('#df-2a6c8d22-c953-45d2-8b12-1a156c0bf438');\n",
              "        const dataTable =\n",
              "          await google.colab.kernel.invokeFunction('convertToInteractive',\n",
              "                                                    [key], {});\n",
              "        if (!dataTable) return;\n",
              "\n",
              "        const docLinkHtml = 'Like what you see? Visit the ' +\n",
              "          '<a target=\"_blank\" href=https://colab.research.google.com/notebooks/data_table.ipynb>data table notebook</a>'\n",
              "          + ' to learn more about interactive tables.';\n",
              "        element.innerHTML = '';\n",
              "        dataTable['output_type'] = 'display_data';\n",
              "        await google.colab.output.renderOutput(dataTable, element);\n",
              "        const docLink = document.createElement('div');\n",
              "        docLink.innerHTML = docLinkHtml;\n",
              "        element.appendChild(docLink);\n",
              "      }\n",
              "    </script>\n",
              "  </div>\n",
              "\n",
              "\n",
              "<div id=\"df-02136b86-4c11-4933-92a8-4cbbf55d48d9\">\n",
              "  <button class=\"colab-df-quickchart\" onclick=\"quickchart('df-02136b86-4c11-4933-92a8-4cbbf55d48d9')\"\n",
              "            title=\"Suggest charts\"\n",
              "            style=\"display:none;\">\n",
              "\n",
              "<svg xmlns=\"http://www.w3.org/2000/svg\" height=\"24px\"viewBox=\"0 0 24 24\"\n",
              "     width=\"24px\">\n",
              "    <g>\n",
              "        <path d=\"M19 3H5c-1.1 0-2 .9-2 2v14c0 1.1.9 2 2 2h14c1.1 0 2-.9 2-2V5c0-1.1-.9-2-2-2zM9 17H7v-7h2v7zm4 0h-2V7h2v10zm4 0h-2v-4h2v4z\"/>\n",
              "    </g>\n",
              "</svg>\n",
              "  </button>\n",
              "\n",
              "<style>\n",
              "  .colab-df-quickchart {\n",
              "      --bg-color: #E8F0FE;\n",
              "      --fill-color: #1967D2;\n",
              "      --hover-bg-color: #E2EBFA;\n",
              "      --hover-fill-color: #174EA6;\n",
              "      --disabled-fill-color: #AAA;\n",
              "      --disabled-bg-color: #DDD;\n",
              "  }\n",
              "\n",
              "  [theme=dark] .colab-df-quickchart {\n",
              "      --bg-color: #3B4455;\n",
              "      --fill-color: #D2E3FC;\n",
              "      --hover-bg-color: #434B5C;\n",
              "      --hover-fill-color: #FFFFFF;\n",
              "      --disabled-bg-color: #3B4455;\n",
              "      --disabled-fill-color: #666;\n",
              "  }\n",
              "\n",
              "  .colab-df-quickchart {\n",
              "    background-color: var(--bg-color);\n",
              "    border: none;\n",
              "    border-radius: 50%;\n",
              "    cursor: pointer;\n",
              "    display: none;\n",
              "    fill: var(--fill-color);\n",
              "    height: 32px;\n",
              "    padding: 0;\n",
              "    width: 32px;\n",
              "  }\n",
              "\n",
              "  .colab-df-quickchart:hover {\n",
              "    background-color: var(--hover-bg-color);\n",
              "    box-shadow: 0 1px 2px rgba(60, 64, 67, 0.3), 0 1px 3px 1px rgba(60, 64, 67, 0.15);\n",
              "    fill: var(--button-hover-fill-color);\n",
              "  }\n",
              "\n",
              "  .colab-df-quickchart-complete:disabled,\n",
              "  .colab-df-quickchart-complete:disabled:hover {\n",
              "    background-color: var(--disabled-bg-color);\n",
              "    fill: var(--disabled-fill-color);\n",
              "    box-shadow: none;\n",
              "  }\n",
              "\n",
              "  .colab-df-spinner {\n",
              "    border: 2px solid var(--fill-color);\n",
              "    border-color: transparent;\n",
              "    border-bottom-color: var(--fill-color);\n",
              "    animation:\n",
              "      spin 1s steps(1) infinite;\n",
              "  }\n",
              "\n",
              "  @keyframes spin {\n",
              "    0% {\n",
              "      border-color: transparent;\n",
              "      border-bottom-color: var(--fill-color);\n",
              "      border-left-color: var(--fill-color);\n",
              "    }\n",
              "    20% {\n",
              "      border-color: transparent;\n",
              "      border-left-color: var(--fill-color);\n",
              "      border-top-color: var(--fill-color);\n",
              "    }\n",
              "    30% {\n",
              "      border-color: transparent;\n",
              "      border-left-color: var(--fill-color);\n",
              "      border-top-color: var(--fill-color);\n",
              "      border-right-color: var(--fill-color);\n",
              "    }\n",
              "    40% {\n",
              "      border-color: transparent;\n",
              "      border-right-color: var(--fill-color);\n",
              "      border-top-color: var(--fill-color);\n",
              "    }\n",
              "    60% {\n",
              "      border-color: transparent;\n",
              "      border-right-color: var(--fill-color);\n",
              "    }\n",
              "    80% {\n",
              "      border-color: transparent;\n",
              "      border-right-color: var(--fill-color);\n",
              "      border-bottom-color: var(--fill-color);\n",
              "    }\n",
              "    90% {\n",
              "      border-color: transparent;\n",
              "      border-bottom-color: var(--fill-color);\n",
              "    }\n",
              "  }\n",
              "</style>\n",
              "\n",
              "  <script>\n",
              "    async function quickchart(key) {\n",
              "      const quickchartButtonEl =\n",
              "        document.querySelector('#' + key + ' button');\n",
              "      quickchartButtonEl.disabled = true;  // To prevent multiple clicks.\n",
              "      quickchartButtonEl.classList.add('colab-df-spinner');\n",
              "      try {\n",
              "        const charts = await google.colab.kernel.invokeFunction(\n",
              "            'suggestCharts', [key], {});\n",
              "      } catch (error) {\n",
              "        console.error('Error during call to suggestCharts:', error);\n",
              "      }\n",
              "      quickchartButtonEl.classList.remove('colab-df-spinner');\n",
              "      quickchartButtonEl.classList.add('colab-df-quickchart-complete');\n",
              "    }\n",
              "    (() => {\n",
              "      let quickchartButtonEl =\n",
              "        document.querySelector('#df-02136b86-4c11-4933-92a8-4cbbf55d48d9 button');\n",
              "      quickchartButtonEl.style.display =\n",
              "        google.colab.kernel.accessAllowed ? 'block' : 'none';\n",
              "    })();\n",
              "  </script>\n",
              "</div>\n",
              "\n",
              "    </div>\n",
              "  </div>\n"
            ],
            "application/vnd.google.colaboratory.intrinsic+json": {
              "type": "dataframe"
            }
          },
          "metadata": {},
          "execution_count": 99
        }
      ]
    },
    {
      "cell_type": "markdown",
      "source": [
        "Suppose that for our analysis, we may drop all the samples without BIKE_COST informations. We can do that using `dropna()` DataFrame method. We can drop rows missing lines by passing a subset."
      ],
      "metadata": {
        "id": "Cf5dbmsQ1bpM"
      }
    },
    {
      "cell_type": "code",
      "source": [
        "thefts=thefts.dropna(subset=['BIKE_COST'])"
      ],
      "metadata": {
        "id": "yqT8L1la0q4R"
      },
      "execution_count": null,
      "outputs": []
    },
    {
      "cell_type": "markdown",
      "source": [
        "We can use `.loc[]` to create a delays DataFrame without the invalid lines. To do this, we first create a list of values to exclude, then pass the list to the Series` isin()` method. Finally, we negate the expression, and assign the output back to a new DataFrame"
      ],
      "metadata": {
        "id": "j2hs6TKqUQHG"
      }
    },
    {
      "cell_type": "code",
      "source": [
        "# set up filter list\n",
        "filter_years = range(2009,2013)\n",
        "thefts_filter = thefts.loc[thefts['OCC_YEAR'].isin(filter_years)]\n",
        "thefts_filter['OCC_YEAR'].unique()\n"
      ],
      "metadata": {
        "id": "8lMDERMjUZpB",
        "colab": {
          "base_uri": "https://localhost:8080/"
        },
        "outputId": "60d7d8e1-0dbd-4817-ef36-8013e7cae9d7"
      },
      "execution_count": null,
      "outputs": [
        {
          "output_type": "execute_result",
          "data": {
            "text/plain": [
              "array([2012, 2011, 2010, 2009])"
            ]
          },
          "metadata": {},
          "execution_count": 101
        }
      ]
    },
    {
      "cell_type": "markdown",
      "source": [
        "## Grouping\n",
        "A core workflow in `pandas` is *split-apply-combine*:\n",
        "\n",
        "* **splitting** data into groups\n",
        "* **applying** a function to each group, such as calculating group sums, standardizing data, or filtering out some groups\n",
        "* **combining** the results into a data structure\n",
        "\n",
        "This workflow starts by grouping data by calling the `groupby()` method. We'll pass in a column name or list of names to group by."
      ],
      "metadata": {
        "id": "Cg2Ej5ec2wQB"
      }
    },
    {
      "cell_type": "code",
      "source": [
        "thefts_group=thefts.groupby('OCC_DAY')"
      ],
      "metadata": {
        "id": "ma13BcfB2vbj"
      },
      "execution_count": null,
      "outputs": []
    },
    {
      "cell_type": "markdown",
      "source": [
        "`groupby()` returns a grouped DataFrame that we can use to calculate groupwise statistics. The grouping column values become indexes, or row labels. **Note that this grouped DataFrame still references the original, so mutating one affects the other**"
      ],
      "metadata": {
        "id": "frGU4nVs3spG"
      }
    },
    {
      "cell_type": "code",
      "source": [
        "thefts_group['OCC_HOUR'].mean()"
      ],
      "metadata": {
        "id": "6ChD8qyh32Jy",
        "colab": {
          "base_uri": "https://localhost:8080/"
        },
        "outputId": "08dc4bc0-2144-4849-ae5a-e0537018463b"
      },
      "execution_count": null,
      "outputs": [
        {
          "output_type": "execute_result",
          "data": {
            "text/plain": [
              "OCC_DAY\n",
              "1     11.815422\n",
              "2     13.588174\n",
              "3     13.433759\n",
              "4     13.472081\n",
              "5     13.791460\n",
              "6     13.733728\n",
              "7     13.118095\n",
              "8     13.663971\n",
              "9     13.923664\n",
              "10    13.774476\n",
              "11    13.152995\n",
              "12    13.212204\n",
              "13    13.509284\n",
              "14    13.750220\n",
              "15    12.516156\n",
              "16    13.293345\n",
              "17    12.982222\n",
              "18    13.327273\n",
              "19    13.140320\n",
              "20    13.423700\n",
              "21    13.716330\n",
              "22    13.514693\n",
              "23    13.580258\n",
              "24    13.152557\n",
              "25    13.228950\n",
              "26    13.197813\n",
              "27    12.923440\n",
              "28    13.493097\n",
              "29    13.255446\n",
              "30    13.355023\n",
              "31    13.768916\n",
              "Name: OCC_HOUR, dtype: float64"
            ]
          },
          "metadata": {},
          "execution_count": 103
        }
      ]
    },
    {
      "cell_type": "markdown",
      "source": [
        "### `agg()` command\n",
        "\n",
        "So far, we have applied one function at a time. The `agg()` DataFrame method lets us apply multiple functions on different columns at once.\n",
        "\n",
        "agg()'s argument syntax follows this pattern:\n",
        "```\n",
        "DataFrame.agg(agg_colname=('column_to_aggregate', 'aggregation_function_name'),\n",
        "             agg_colname2=('col_to_agg2', 'agg_func_name'))\n",
        "```\n",
        "\n",
        "Lets see an example\n",
        "\n",
        "\n",
        "\n",
        "\n",
        "\n",
        "\n"
      ],
      "metadata": {
        "id": "bHiWIMbV5yAX"
      }
    },
    {
      "cell_type": "code",
      "source": [
        "thefts_summary=(thefts.groupby('OCC_YEAR')\n",
        "                      .agg(mean_time=('REPORT_HOUR', 'mean'),counts=('REPORT_HOUR', 'count')))\n",
        "\n"
      ],
      "metadata": {
        "id": "4MtAr8l3imxV"
      },
      "execution_count": null,
      "outputs": []
    },
    {
      "cell_type": "markdown",
      "source": [
        "We want `OCC_YEAR` to be a column"
      ],
      "metadata": {
        "id": "6HO1u2ruj93Z"
      }
    },
    {
      "cell_type": "code",
      "source": [
        "thefts_summary=(thefts.groupby('OCC_YEAR')\n",
        "                      .agg(mean_time=('REPORT_HOUR', 'mean'),counts=('REPORT_HOUR', 'count'))\n",
        "                      .reset_index()) # make reported hour a regular col\n",
        "\n",
        "\n",
        "thefts_summary\n",
        "# thefts_summary['OCC_YEAR']"
      ],
      "metadata": {
        "id": "CjIMnjNc7HhO",
        "colab": {
          "base_uri": "https://localhost:8080/",
          "height": 634
        },
        "outputId": "ba1d77c9-bba0-4238-ffc8-1b0d2c297956"
      },
      "execution_count": null,
      "outputs": [
        {
          "output_type": "execute_result",
          "data": {
            "text/plain": [
              "    OCC_YEAR  mean_time  counts\n",
              "0       1975  15.000000       1\n",
              "1       1983  19.000000       1\n",
              "2       2009  17.000000       1\n",
              "3       2010  22.000000       2\n",
              "4       2011  14.666667       3\n",
              "5       2012  15.500000       2\n",
              "6       2013  14.000000      42\n",
              "7       2014  14.423105    2744\n",
              "8       2015  14.290333    3000\n",
              "9       2016  14.159933    3564\n",
              "10      2017  14.236077    3681\n",
              "11      2018  14.268567    3824\n",
              "12      2019  14.477124    3519\n",
              "13      2020  14.206302    3713\n",
              "14      2021  14.347213    2978\n",
              "15      2022  14.298641    2796\n",
              "16      2023  14.301415    2757\n",
              "17      2024  14.379195     298"
            ],
            "text/html": [
              "\n",
              "  <div id=\"df-5d0caa48-29f6-4f99-bdcb-76287b062bc1\" class=\"colab-df-container\">\n",
              "    <div>\n",
              "<style scoped>\n",
              "    .dataframe tbody tr th:only-of-type {\n",
              "        vertical-align: middle;\n",
              "    }\n",
              "\n",
              "    .dataframe tbody tr th {\n",
              "        vertical-align: top;\n",
              "    }\n",
              "\n",
              "    .dataframe thead th {\n",
              "        text-align: right;\n",
              "    }\n",
              "</style>\n",
              "<table border=\"1\" class=\"dataframe\">\n",
              "  <thead>\n",
              "    <tr style=\"text-align: right;\">\n",
              "      <th></th>\n",
              "      <th>OCC_YEAR</th>\n",
              "      <th>mean_time</th>\n",
              "      <th>counts</th>\n",
              "    </tr>\n",
              "  </thead>\n",
              "  <tbody>\n",
              "    <tr>\n",
              "      <th>0</th>\n",
              "      <td>1975</td>\n",
              "      <td>15.000000</td>\n",
              "      <td>1</td>\n",
              "    </tr>\n",
              "    <tr>\n",
              "      <th>1</th>\n",
              "      <td>1983</td>\n",
              "      <td>19.000000</td>\n",
              "      <td>1</td>\n",
              "    </tr>\n",
              "    <tr>\n",
              "      <th>2</th>\n",
              "      <td>2009</td>\n",
              "      <td>17.000000</td>\n",
              "      <td>1</td>\n",
              "    </tr>\n",
              "    <tr>\n",
              "      <th>3</th>\n",
              "      <td>2010</td>\n",
              "      <td>22.000000</td>\n",
              "      <td>2</td>\n",
              "    </tr>\n",
              "    <tr>\n",
              "      <th>4</th>\n",
              "      <td>2011</td>\n",
              "      <td>14.666667</td>\n",
              "      <td>3</td>\n",
              "    </tr>\n",
              "    <tr>\n",
              "      <th>5</th>\n",
              "      <td>2012</td>\n",
              "      <td>15.500000</td>\n",
              "      <td>2</td>\n",
              "    </tr>\n",
              "    <tr>\n",
              "      <th>6</th>\n",
              "      <td>2013</td>\n",
              "      <td>14.000000</td>\n",
              "      <td>42</td>\n",
              "    </tr>\n",
              "    <tr>\n",
              "      <th>7</th>\n",
              "      <td>2014</td>\n",
              "      <td>14.423105</td>\n",
              "      <td>2744</td>\n",
              "    </tr>\n",
              "    <tr>\n",
              "      <th>8</th>\n",
              "      <td>2015</td>\n",
              "      <td>14.290333</td>\n",
              "      <td>3000</td>\n",
              "    </tr>\n",
              "    <tr>\n",
              "      <th>9</th>\n",
              "      <td>2016</td>\n",
              "      <td>14.159933</td>\n",
              "      <td>3564</td>\n",
              "    </tr>\n",
              "    <tr>\n",
              "      <th>10</th>\n",
              "      <td>2017</td>\n",
              "      <td>14.236077</td>\n",
              "      <td>3681</td>\n",
              "    </tr>\n",
              "    <tr>\n",
              "      <th>11</th>\n",
              "      <td>2018</td>\n",
              "      <td>14.268567</td>\n",
              "      <td>3824</td>\n",
              "    </tr>\n",
              "    <tr>\n",
              "      <th>12</th>\n",
              "      <td>2019</td>\n",
              "      <td>14.477124</td>\n",
              "      <td>3519</td>\n",
              "    </tr>\n",
              "    <tr>\n",
              "      <th>13</th>\n",
              "      <td>2020</td>\n",
              "      <td>14.206302</td>\n",
              "      <td>3713</td>\n",
              "    </tr>\n",
              "    <tr>\n",
              "      <th>14</th>\n",
              "      <td>2021</td>\n",
              "      <td>14.347213</td>\n",
              "      <td>2978</td>\n",
              "    </tr>\n",
              "    <tr>\n",
              "      <th>15</th>\n",
              "      <td>2022</td>\n",
              "      <td>14.298641</td>\n",
              "      <td>2796</td>\n",
              "    </tr>\n",
              "    <tr>\n",
              "      <th>16</th>\n",
              "      <td>2023</td>\n",
              "      <td>14.301415</td>\n",
              "      <td>2757</td>\n",
              "    </tr>\n",
              "    <tr>\n",
              "      <th>17</th>\n",
              "      <td>2024</td>\n",
              "      <td>14.379195</td>\n",
              "      <td>298</td>\n",
              "    </tr>\n",
              "  </tbody>\n",
              "</table>\n",
              "</div>\n",
              "    <div class=\"colab-df-buttons\">\n",
              "\n",
              "  <div class=\"colab-df-container\">\n",
              "    <button class=\"colab-df-convert\" onclick=\"convertToInteractive('df-5d0caa48-29f6-4f99-bdcb-76287b062bc1')\"\n",
              "            title=\"Convert this dataframe to an interactive table.\"\n",
              "            style=\"display:none;\">\n",
              "\n",
              "  <svg xmlns=\"http://www.w3.org/2000/svg\" height=\"24px\" viewBox=\"0 -960 960 960\">\n",
              "    <path d=\"M120-120v-720h720v720H120Zm60-500h600v-160H180v160Zm220 220h160v-160H400v160Zm0 220h160v-160H400v160ZM180-400h160v-160H180v160Zm440 0h160v-160H620v160ZM180-180h160v-160H180v160Zm440 0h160v-160H620v160Z\"/>\n",
              "  </svg>\n",
              "    </button>\n",
              "\n",
              "  <style>\n",
              "    .colab-df-container {\n",
              "      display:flex;\n",
              "      gap: 12px;\n",
              "    }\n",
              "\n",
              "    .colab-df-convert {\n",
              "      background-color: #E8F0FE;\n",
              "      border: none;\n",
              "      border-radius: 50%;\n",
              "      cursor: pointer;\n",
              "      display: none;\n",
              "      fill: #1967D2;\n",
              "      height: 32px;\n",
              "      padding: 0 0 0 0;\n",
              "      width: 32px;\n",
              "    }\n",
              "\n",
              "    .colab-df-convert:hover {\n",
              "      background-color: #E2EBFA;\n",
              "      box-shadow: 0px 1px 2px rgba(60, 64, 67, 0.3), 0px 1px 3px 1px rgba(60, 64, 67, 0.15);\n",
              "      fill: #174EA6;\n",
              "    }\n",
              "\n",
              "    .colab-df-buttons div {\n",
              "      margin-bottom: 4px;\n",
              "    }\n",
              "\n",
              "    [theme=dark] .colab-df-convert {\n",
              "      background-color: #3B4455;\n",
              "      fill: #D2E3FC;\n",
              "    }\n",
              "\n",
              "    [theme=dark] .colab-df-convert:hover {\n",
              "      background-color: #434B5C;\n",
              "      box-shadow: 0px 1px 3px 1px rgba(0, 0, 0, 0.15);\n",
              "      filter: drop-shadow(0px 1px 2px rgba(0, 0, 0, 0.3));\n",
              "      fill: #FFFFFF;\n",
              "    }\n",
              "  </style>\n",
              "\n",
              "    <script>\n",
              "      const buttonEl =\n",
              "        document.querySelector('#df-5d0caa48-29f6-4f99-bdcb-76287b062bc1 button.colab-df-convert');\n",
              "      buttonEl.style.display =\n",
              "        google.colab.kernel.accessAllowed ? 'block' : 'none';\n",
              "\n",
              "      async function convertToInteractive(key) {\n",
              "        const element = document.querySelector('#df-5d0caa48-29f6-4f99-bdcb-76287b062bc1');\n",
              "        const dataTable =\n",
              "          await google.colab.kernel.invokeFunction('convertToInteractive',\n",
              "                                                    [key], {});\n",
              "        if (!dataTable) return;\n",
              "\n",
              "        const docLinkHtml = 'Like what you see? Visit the ' +\n",
              "          '<a target=\"_blank\" href=https://colab.research.google.com/notebooks/data_table.ipynb>data table notebook</a>'\n",
              "          + ' to learn more about interactive tables.';\n",
              "        element.innerHTML = '';\n",
              "        dataTable['output_type'] = 'display_data';\n",
              "        await google.colab.output.renderOutput(dataTable, element);\n",
              "        const docLink = document.createElement('div');\n",
              "        docLink.innerHTML = docLinkHtml;\n",
              "        element.appendChild(docLink);\n",
              "      }\n",
              "    </script>\n",
              "  </div>\n",
              "\n",
              "\n",
              "<div id=\"df-8a0b7b4d-ce86-46b9-b7d7-e172c006dd0f\">\n",
              "  <button class=\"colab-df-quickchart\" onclick=\"quickchart('df-8a0b7b4d-ce86-46b9-b7d7-e172c006dd0f')\"\n",
              "            title=\"Suggest charts\"\n",
              "            style=\"display:none;\">\n",
              "\n",
              "<svg xmlns=\"http://www.w3.org/2000/svg\" height=\"24px\"viewBox=\"0 0 24 24\"\n",
              "     width=\"24px\">\n",
              "    <g>\n",
              "        <path d=\"M19 3H5c-1.1 0-2 .9-2 2v14c0 1.1.9 2 2 2h14c1.1 0 2-.9 2-2V5c0-1.1-.9-2-2-2zM9 17H7v-7h2v7zm4 0h-2V7h2v10zm4 0h-2v-4h2v4z\"/>\n",
              "    </g>\n",
              "</svg>\n",
              "  </button>\n",
              "\n",
              "<style>\n",
              "  .colab-df-quickchart {\n",
              "      --bg-color: #E8F0FE;\n",
              "      --fill-color: #1967D2;\n",
              "      --hover-bg-color: #E2EBFA;\n",
              "      --hover-fill-color: #174EA6;\n",
              "      --disabled-fill-color: #AAA;\n",
              "      --disabled-bg-color: #DDD;\n",
              "  }\n",
              "\n",
              "  [theme=dark] .colab-df-quickchart {\n",
              "      --bg-color: #3B4455;\n",
              "      --fill-color: #D2E3FC;\n",
              "      --hover-bg-color: #434B5C;\n",
              "      --hover-fill-color: #FFFFFF;\n",
              "      --disabled-bg-color: #3B4455;\n",
              "      --disabled-fill-color: #666;\n",
              "  }\n",
              "\n",
              "  .colab-df-quickchart {\n",
              "    background-color: var(--bg-color);\n",
              "    border: none;\n",
              "    border-radius: 50%;\n",
              "    cursor: pointer;\n",
              "    display: none;\n",
              "    fill: var(--fill-color);\n",
              "    height: 32px;\n",
              "    padding: 0;\n",
              "    width: 32px;\n",
              "  }\n",
              "\n",
              "  .colab-df-quickchart:hover {\n",
              "    background-color: var(--hover-bg-color);\n",
              "    box-shadow: 0 1px 2px rgba(60, 64, 67, 0.3), 0 1px 3px 1px rgba(60, 64, 67, 0.15);\n",
              "    fill: var(--button-hover-fill-color);\n",
              "  }\n",
              "\n",
              "  .colab-df-quickchart-complete:disabled,\n",
              "  .colab-df-quickchart-complete:disabled:hover {\n",
              "    background-color: var(--disabled-bg-color);\n",
              "    fill: var(--disabled-fill-color);\n",
              "    box-shadow: none;\n",
              "  }\n",
              "\n",
              "  .colab-df-spinner {\n",
              "    border: 2px solid var(--fill-color);\n",
              "    border-color: transparent;\n",
              "    border-bottom-color: var(--fill-color);\n",
              "    animation:\n",
              "      spin 1s steps(1) infinite;\n",
              "  }\n",
              "\n",
              "  @keyframes spin {\n",
              "    0% {\n",
              "      border-color: transparent;\n",
              "      border-bottom-color: var(--fill-color);\n",
              "      border-left-color: var(--fill-color);\n",
              "    }\n",
              "    20% {\n",
              "      border-color: transparent;\n",
              "      border-left-color: var(--fill-color);\n",
              "      border-top-color: var(--fill-color);\n",
              "    }\n",
              "    30% {\n",
              "      border-color: transparent;\n",
              "      border-left-color: var(--fill-color);\n",
              "      border-top-color: var(--fill-color);\n",
              "      border-right-color: var(--fill-color);\n",
              "    }\n",
              "    40% {\n",
              "      border-color: transparent;\n",
              "      border-right-color: var(--fill-color);\n",
              "      border-top-color: var(--fill-color);\n",
              "    }\n",
              "    60% {\n",
              "      border-color: transparent;\n",
              "      border-right-color: var(--fill-color);\n",
              "    }\n",
              "    80% {\n",
              "      border-color: transparent;\n",
              "      border-right-color: var(--fill-color);\n",
              "      border-bottom-color: var(--fill-color);\n",
              "    }\n",
              "    90% {\n",
              "      border-color: transparent;\n",
              "      border-bottom-color: var(--fill-color);\n",
              "    }\n",
              "  }\n",
              "</style>\n",
              "\n",
              "  <script>\n",
              "    async function quickchart(key) {\n",
              "      const quickchartButtonEl =\n",
              "        document.querySelector('#' + key + ' button');\n",
              "      quickchartButtonEl.disabled = true;  // To prevent multiple clicks.\n",
              "      quickchartButtonEl.classList.add('colab-df-spinner');\n",
              "      try {\n",
              "        const charts = await google.colab.kernel.invokeFunction(\n",
              "            'suggestCharts', [key], {});\n",
              "      } catch (error) {\n",
              "        console.error('Error during call to suggestCharts:', error);\n",
              "      }\n",
              "      quickchartButtonEl.classList.remove('colab-df-spinner');\n",
              "      quickchartButtonEl.classList.add('colab-df-quickchart-complete');\n",
              "    }\n",
              "    (() => {\n",
              "      let quickchartButtonEl =\n",
              "        document.querySelector('#df-8a0b7b4d-ce86-46b9-b7d7-e172c006dd0f button');\n",
              "      quickchartButtonEl.style.display =\n",
              "        google.colab.kernel.accessAllowed ? 'block' : 'none';\n",
              "    })();\n",
              "  </script>\n",
              "</div>\n",
              "\n",
              "  <div id=\"id_2793fd92-932f-4c9f-8c35-a363bcb3cf8e\">\n",
              "    <style>\n",
              "      .colab-df-generate {\n",
              "        background-color: #E8F0FE;\n",
              "        border: none;\n",
              "        border-radius: 50%;\n",
              "        cursor: pointer;\n",
              "        display: none;\n",
              "        fill: #1967D2;\n",
              "        height: 32px;\n",
              "        padding: 0 0 0 0;\n",
              "        width: 32px;\n",
              "      }\n",
              "\n",
              "      .colab-df-generate:hover {\n",
              "        background-color: #E2EBFA;\n",
              "        box-shadow: 0px 1px 2px rgba(60, 64, 67, 0.3), 0px 1px 3px 1px rgba(60, 64, 67, 0.15);\n",
              "        fill: #174EA6;\n",
              "      }\n",
              "\n",
              "      [theme=dark] .colab-df-generate {\n",
              "        background-color: #3B4455;\n",
              "        fill: #D2E3FC;\n",
              "      }\n",
              "\n",
              "      [theme=dark] .colab-df-generate:hover {\n",
              "        background-color: #434B5C;\n",
              "        box-shadow: 0px 1px 3px 1px rgba(0, 0, 0, 0.15);\n",
              "        filter: drop-shadow(0px 1px 2px rgba(0, 0, 0, 0.3));\n",
              "        fill: #FFFFFF;\n",
              "      }\n",
              "    </style>\n",
              "    <button class=\"colab-df-generate\" onclick=\"generateWithVariable('thefts_summary')\"\n",
              "            title=\"Generate code using this dataframe.\"\n",
              "            style=\"display:none;\">\n",
              "\n",
              "  <svg xmlns=\"http://www.w3.org/2000/svg\" height=\"24px\"viewBox=\"0 0 24 24\"\n",
              "       width=\"24px\">\n",
              "    <path d=\"M7,19H8.4L18.45,9,17,7.55,7,17.6ZM5,21V16.75L18.45,3.32a2,2,0,0,1,2.83,0l1.4,1.43a1.91,1.91,0,0,1,.58,1.4,1.91,1.91,0,0,1-.58,1.4L9.25,21ZM18.45,9,17,7.55Zm-12,3A5.31,5.31,0,0,0,4.9,8.1,5.31,5.31,0,0,0,1,6.5,5.31,5.31,0,0,0,4.9,4.9,5.31,5.31,0,0,0,6.5,1,5.31,5.31,0,0,0,8.1,4.9,5.31,5.31,0,0,0,12,6.5,5.46,5.46,0,0,0,6.5,12Z\"/>\n",
              "  </svg>\n",
              "    </button>\n",
              "    <script>\n",
              "      (() => {\n",
              "      const buttonEl =\n",
              "        document.querySelector('#id_2793fd92-932f-4c9f-8c35-a363bcb3cf8e button.colab-df-generate');\n",
              "      buttonEl.style.display =\n",
              "        google.colab.kernel.accessAllowed ? 'block' : 'none';\n",
              "\n",
              "      buttonEl.onclick = () => {\n",
              "        google.colab.notebook.generateWithVariable('thefts_summary');\n",
              "      }\n",
              "      })();\n",
              "    </script>\n",
              "  </div>\n",
              "\n",
              "    </div>\n",
              "  </div>\n"
            ],
            "application/vnd.google.colaboratory.intrinsic+json": {
              "type": "dataframe",
              "variable_name": "thefts_summary",
              "summary": "{\n  \"name\": \"thefts_summary\",\n  \"rows\": 18,\n  \"fields\": [\n    {\n      \"column\": \"OCC_YEAR\",\n      \"properties\": {\n        \"dtype\": \"number\",\n        \"std\": 12,\n        \"min\": 1975,\n        \"max\": 2024,\n        \"num_unique_values\": 18,\n        \"samples\": [\n          1975,\n          1983,\n          2015\n        ],\n        \"semantic_type\": \"\",\n        \"description\": \"\"\n      }\n    },\n    {\n      \"column\": \"mean_time\",\n      \"properties\": {\n        \"dtype\": \"number\",\n        \"std\": 2.0943087047204147,\n        \"min\": 14.0,\n        \"max\": 22.0,\n        \"num_unique_values\": 18,\n        \"samples\": [\n          15.0,\n          19.0,\n          14.290333333333333\n        ],\n        \"semantic_type\": \"\",\n        \"description\": \"\"\n      }\n    },\n    {\n      \"column\": \"counts\",\n      \"properties\": {\n        \"dtype\": \"number\",\n        \"std\": 1675,\n        \"min\": 1,\n        \"max\": 3824,\n        \"num_unique_values\": 15,\n        \"samples\": [\n          3519,\n          2978,\n          1\n        ],\n        \"semantic_type\": \"\",\n        \"description\": \"\"\n      }\n    }\n  ]\n}"
            }
          },
          "metadata": {},
          "execution_count": 109
        }
      ]
    },
    {
      "cell_type": "code",
      "source": [
        "thefts_summary2=(thefts.groupby(['OCC_YEAR', 'STATUS'])\n",
        "                  .agg(thefts=('_id', 'count'))\n",
        "                  .reset_index())\n",
        "thefts_summary2.head()"
      ],
      "metadata": {
        "id": "q05gpfY9oFbF",
        "colab": {
          "base_uri": "https://localhost:8080/",
          "height": 226
        },
        "outputId": "a3765106-be41-43f0-af27-8b45b2c5c627"
      },
      "execution_count": null,
      "outputs": [
        {
          "output_type": "execute_result",
          "data": {
            "text/plain": [
              "   OCC_YEAR     STATUS  thefts\n",
              "0      1975  RECOVERED       0\n",
              "1      1975     STOLEN       1\n",
              "2      1975    UNKNOWN       0\n",
              "3      1983  RECOVERED       0\n",
              "4      1983     STOLEN       1"
            ],
            "text/html": [
              "\n",
              "  <div id=\"df-5449aabc-9f11-4f7f-afd1-f00d8012d6b8\" class=\"colab-df-container\">\n",
              "    <div>\n",
              "<style scoped>\n",
              "    .dataframe tbody tr th:only-of-type {\n",
              "        vertical-align: middle;\n",
              "    }\n",
              "\n",
              "    .dataframe tbody tr th {\n",
              "        vertical-align: top;\n",
              "    }\n",
              "\n",
              "    .dataframe thead th {\n",
              "        text-align: right;\n",
              "    }\n",
              "</style>\n",
              "<table border=\"1\" class=\"dataframe\">\n",
              "  <thead>\n",
              "    <tr style=\"text-align: right;\">\n",
              "      <th></th>\n",
              "      <th>OCC_YEAR</th>\n",
              "      <th>STATUS</th>\n",
              "      <th>thefts</th>\n",
              "    </tr>\n",
              "  </thead>\n",
              "  <tbody>\n",
              "    <tr>\n",
              "      <th>0</th>\n",
              "      <td>1975</td>\n",
              "      <td>RECOVERED</td>\n",
              "      <td>0</td>\n",
              "    </tr>\n",
              "    <tr>\n",
              "      <th>1</th>\n",
              "      <td>1975</td>\n",
              "      <td>STOLEN</td>\n",
              "      <td>1</td>\n",
              "    </tr>\n",
              "    <tr>\n",
              "      <th>2</th>\n",
              "      <td>1975</td>\n",
              "      <td>UNKNOWN</td>\n",
              "      <td>0</td>\n",
              "    </tr>\n",
              "    <tr>\n",
              "      <th>3</th>\n",
              "      <td>1983</td>\n",
              "      <td>RECOVERED</td>\n",
              "      <td>0</td>\n",
              "    </tr>\n",
              "    <tr>\n",
              "      <th>4</th>\n",
              "      <td>1983</td>\n",
              "      <td>STOLEN</td>\n",
              "      <td>1</td>\n",
              "    </tr>\n",
              "  </tbody>\n",
              "</table>\n",
              "</div>\n",
              "    <div class=\"colab-df-buttons\">\n",
              "\n",
              "  <div class=\"colab-df-container\">\n",
              "    <button class=\"colab-df-convert\" onclick=\"convertToInteractive('df-5449aabc-9f11-4f7f-afd1-f00d8012d6b8')\"\n",
              "            title=\"Convert this dataframe to an interactive table.\"\n",
              "            style=\"display:none;\">\n",
              "\n",
              "  <svg xmlns=\"http://www.w3.org/2000/svg\" height=\"24px\" viewBox=\"0 -960 960 960\">\n",
              "    <path d=\"M120-120v-720h720v720H120Zm60-500h600v-160H180v160Zm220 220h160v-160H400v160Zm0 220h160v-160H400v160ZM180-400h160v-160H180v160Zm440 0h160v-160H620v160ZM180-180h160v-160H180v160Zm440 0h160v-160H620v160Z\"/>\n",
              "  </svg>\n",
              "    </button>\n",
              "\n",
              "  <style>\n",
              "    .colab-df-container {\n",
              "      display:flex;\n",
              "      gap: 12px;\n",
              "    }\n",
              "\n",
              "    .colab-df-convert {\n",
              "      background-color: #E8F0FE;\n",
              "      border: none;\n",
              "      border-radius: 50%;\n",
              "      cursor: pointer;\n",
              "      display: none;\n",
              "      fill: #1967D2;\n",
              "      height: 32px;\n",
              "      padding: 0 0 0 0;\n",
              "      width: 32px;\n",
              "    }\n",
              "\n",
              "    .colab-df-convert:hover {\n",
              "      background-color: #E2EBFA;\n",
              "      box-shadow: 0px 1px 2px rgba(60, 64, 67, 0.3), 0px 1px 3px 1px rgba(60, 64, 67, 0.15);\n",
              "      fill: #174EA6;\n",
              "    }\n",
              "\n",
              "    .colab-df-buttons div {\n",
              "      margin-bottom: 4px;\n",
              "    }\n",
              "\n",
              "    [theme=dark] .colab-df-convert {\n",
              "      background-color: #3B4455;\n",
              "      fill: #D2E3FC;\n",
              "    }\n",
              "\n",
              "    [theme=dark] .colab-df-convert:hover {\n",
              "      background-color: #434B5C;\n",
              "      box-shadow: 0px 1px 3px 1px rgba(0, 0, 0, 0.15);\n",
              "      filter: drop-shadow(0px 1px 2px rgba(0, 0, 0, 0.3));\n",
              "      fill: #FFFFFF;\n",
              "    }\n",
              "  </style>\n",
              "\n",
              "    <script>\n",
              "      const buttonEl =\n",
              "        document.querySelector('#df-5449aabc-9f11-4f7f-afd1-f00d8012d6b8 button.colab-df-convert');\n",
              "      buttonEl.style.display =\n",
              "        google.colab.kernel.accessAllowed ? 'block' : 'none';\n",
              "\n",
              "      async function convertToInteractive(key) {\n",
              "        const element = document.querySelector('#df-5449aabc-9f11-4f7f-afd1-f00d8012d6b8');\n",
              "        const dataTable =\n",
              "          await google.colab.kernel.invokeFunction('convertToInteractive',\n",
              "                                                    [key], {});\n",
              "        if (!dataTable) return;\n",
              "\n",
              "        const docLinkHtml = 'Like what you see? Visit the ' +\n",
              "          '<a target=\"_blank\" href=https://colab.research.google.com/notebooks/data_table.ipynb>data table notebook</a>'\n",
              "          + ' to learn more about interactive tables.';\n",
              "        element.innerHTML = '';\n",
              "        dataTable['output_type'] = 'display_data';\n",
              "        await google.colab.output.renderOutput(dataTable, element);\n",
              "        const docLink = document.createElement('div');\n",
              "        docLink.innerHTML = docLinkHtml;\n",
              "        element.appendChild(docLink);\n",
              "      }\n",
              "    </script>\n",
              "  </div>\n",
              "\n",
              "\n",
              "<div id=\"df-d692ee64-3ddf-46c6-8b67-03503bb76391\">\n",
              "  <button class=\"colab-df-quickchart\" onclick=\"quickchart('df-d692ee64-3ddf-46c6-8b67-03503bb76391')\"\n",
              "            title=\"Suggest charts\"\n",
              "            style=\"display:none;\">\n",
              "\n",
              "<svg xmlns=\"http://www.w3.org/2000/svg\" height=\"24px\"viewBox=\"0 0 24 24\"\n",
              "     width=\"24px\">\n",
              "    <g>\n",
              "        <path d=\"M19 3H5c-1.1 0-2 .9-2 2v14c0 1.1.9 2 2 2h14c1.1 0 2-.9 2-2V5c0-1.1-.9-2-2-2zM9 17H7v-7h2v7zm4 0h-2V7h2v10zm4 0h-2v-4h2v4z\"/>\n",
              "    </g>\n",
              "</svg>\n",
              "  </button>\n",
              "\n",
              "<style>\n",
              "  .colab-df-quickchart {\n",
              "      --bg-color: #E8F0FE;\n",
              "      --fill-color: #1967D2;\n",
              "      --hover-bg-color: #E2EBFA;\n",
              "      --hover-fill-color: #174EA6;\n",
              "      --disabled-fill-color: #AAA;\n",
              "      --disabled-bg-color: #DDD;\n",
              "  }\n",
              "\n",
              "  [theme=dark] .colab-df-quickchart {\n",
              "      --bg-color: #3B4455;\n",
              "      --fill-color: #D2E3FC;\n",
              "      --hover-bg-color: #434B5C;\n",
              "      --hover-fill-color: #FFFFFF;\n",
              "      --disabled-bg-color: #3B4455;\n",
              "      --disabled-fill-color: #666;\n",
              "  }\n",
              "\n",
              "  .colab-df-quickchart {\n",
              "    background-color: var(--bg-color);\n",
              "    border: none;\n",
              "    border-radius: 50%;\n",
              "    cursor: pointer;\n",
              "    display: none;\n",
              "    fill: var(--fill-color);\n",
              "    height: 32px;\n",
              "    padding: 0;\n",
              "    width: 32px;\n",
              "  }\n",
              "\n",
              "  .colab-df-quickchart:hover {\n",
              "    background-color: var(--hover-bg-color);\n",
              "    box-shadow: 0 1px 2px rgba(60, 64, 67, 0.3), 0 1px 3px 1px rgba(60, 64, 67, 0.15);\n",
              "    fill: var(--button-hover-fill-color);\n",
              "  }\n",
              "\n",
              "  .colab-df-quickchart-complete:disabled,\n",
              "  .colab-df-quickchart-complete:disabled:hover {\n",
              "    background-color: var(--disabled-bg-color);\n",
              "    fill: var(--disabled-fill-color);\n",
              "    box-shadow: none;\n",
              "  }\n",
              "\n",
              "  .colab-df-spinner {\n",
              "    border: 2px solid var(--fill-color);\n",
              "    border-color: transparent;\n",
              "    border-bottom-color: var(--fill-color);\n",
              "    animation:\n",
              "      spin 1s steps(1) infinite;\n",
              "  }\n",
              "\n",
              "  @keyframes spin {\n",
              "    0% {\n",
              "      border-color: transparent;\n",
              "      border-bottom-color: var(--fill-color);\n",
              "      border-left-color: var(--fill-color);\n",
              "    }\n",
              "    20% {\n",
              "      border-color: transparent;\n",
              "      border-left-color: var(--fill-color);\n",
              "      border-top-color: var(--fill-color);\n",
              "    }\n",
              "    30% {\n",
              "      border-color: transparent;\n",
              "      border-left-color: var(--fill-color);\n",
              "      border-top-color: var(--fill-color);\n",
              "      border-right-color: var(--fill-color);\n",
              "    }\n",
              "    40% {\n",
              "      border-color: transparent;\n",
              "      border-right-color: var(--fill-color);\n",
              "      border-top-color: var(--fill-color);\n",
              "    }\n",
              "    60% {\n",
              "      border-color: transparent;\n",
              "      border-right-color: var(--fill-color);\n",
              "    }\n",
              "    80% {\n",
              "      border-color: transparent;\n",
              "      border-right-color: var(--fill-color);\n",
              "      border-bottom-color: var(--fill-color);\n",
              "    }\n",
              "    90% {\n",
              "      border-color: transparent;\n",
              "      border-bottom-color: var(--fill-color);\n",
              "    }\n",
              "  }\n",
              "</style>\n",
              "\n",
              "  <script>\n",
              "    async function quickchart(key) {\n",
              "      const quickchartButtonEl =\n",
              "        document.querySelector('#' + key + ' button');\n",
              "      quickchartButtonEl.disabled = true;  // To prevent multiple clicks.\n",
              "      quickchartButtonEl.classList.add('colab-df-spinner');\n",
              "      try {\n",
              "        const charts = await google.colab.kernel.invokeFunction(\n",
              "            'suggestCharts', [key], {});\n",
              "      } catch (error) {\n",
              "        console.error('Error during call to suggestCharts:', error);\n",
              "      }\n",
              "      quickchartButtonEl.classList.remove('colab-df-spinner');\n",
              "      quickchartButtonEl.classList.add('colab-df-quickchart-complete');\n",
              "    }\n",
              "    (() => {\n",
              "      let quickchartButtonEl =\n",
              "        document.querySelector('#df-d692ee64-3ddf-46c6-8b67-03503bb76391 button');\n",
              "      quickchartButtonEl.style.display =\n",
              "        google.colab.kernel.accessAllowed ? 'block' : 'none';\n",
              "    })();\n",
              "  </script>\n",
              "</div>\n",
              "\n",
              "    </div>\n",
              "  </div>\n"
            ],
            "application/vnd.google.colaboratory.intrinsic+json": {
              "type": "dataframe",
              "variable_name": "thefts_summary2",
              "summary": "{\n  \"name\": \"thefts_summary2\",\n  \"rows\": 54,\n  \"fields\": [\n    {\n      \"column\": \"OCC_YEAR\",\n      \"properties\": {\n        \"dtype\": \"number\",\n        \"std\": 12,\n        \"min\": 1975,\n        \"max\": 2024,\n        \"num_unique_values\": 18,\n        \"samples\": [\n          1975,\n          1983,\n          2015\n        ],\n        \"semantic_type\": \"\",\n        \"description\": \"\"\n      }\n    },\n    {\n      \"column\": \"STATUS\",\n      \"properties\": {\n        \"dtype\": \"category\",\n        \"num_unique_values\": 3,\n        \"samples\": [\n          \"RECOVERED\",\n          \"STOLEN\",\n          \"UNKNOWN\"\n        ],\n        \"semantic_type\": \"\",\n        \"description\": \"\"\n      }\n    },\n    {\n      \"column\": \"thefts\",\n      \"properties\": {\n        \"dtype\": \"number\",\n        \"std\": 1267,\n        \"min\": 0,\n        \"max\": 3775,\n        \"num_unique_values\": 31,\n        \"samples\": [\n          15,\n          22,\n          2946\n        ],\n        \"semantic_type\": \"\",\n        \"description\": \"\"\n      }\n    }\n  ]\n}"
            }
          },
          "metadata": {},
          "execution_count": 110
        }
      ]
    },
    {
      "cell_type": "markdown",
      "source": [
        "## Reshaping data with pivot()\n"
      ],
      "metadata": {
        "id": "cZzK8tNclYvb"
      }
    },
    {
      "cell_type": "markdown",
      "source": [
        "The next step is to make the Topic/Characteristic the column header, `pivot()`ing the values. To do this, we specify the column(s) to use as the index, or row labels; the column(s) whose values we should use as column names, and which column our values come from.\n",
        "\n",
        "Pivoting on two columns creates a multi-level column header, so we then drop the top Topic level with `droplevel()`. Finally, we` reset_index()`\n",
        "\n",
        "\n",
        "For example we could try to get treee new variables: number of recovered, stolen and unknown bikes by year"
      ],
      "metadata": {
        "id": "QFfDv6IoTWFf"
      }
    },
    {
      "cell_type": "code",
      "source": [
        "thefts_grouped = (thefts_summary2\n",
        "                  .pivot(index='OCC_YEAR', columns='STATUS', values='thefts')\n",
        "                  .reset_index()  # ...and again\n",
        "                  .fillna(0)  # make occurrence year a regular col\n",
        "                  )\n",
        "\n",
        "thefts_grouped"
      ],
      "metadata": {
        "id": "Hz7j2iWalrYP"
      },
      "execution_count": null,
      "outputs": []
    },
    {
      "cell_type": "markdown",
      "source": [
        "## MATPLOTLIB\n",
        "\n",
        "For historical reasons, when we import matplotlib, we really import `matplotlib`.pyplot. The conventional alias is` plt.`\n",
        "\n"
      ],
      "metadata": {
        "id": "7w1_TRyhLCpz"
      }
    },
    {
      "cell_type": "code",
      "source": [
        "# jupyter-specific \"magic\" command to render plots in-line\n",
        "%matplotlib inline\n",
        "\n",
        "import matplotlib as mpl\n",
        "import matplotlib.pyplot as plt\n"
      ],
      "metadata": {
        "id": "h_HxL7zjLVzN"
      },
      "execution_count": null,
      "outputs": []
    },
    {
      "cell_type": "markdown",
      "source": [
        "### `pyplot`-style plotting\n",
        "pyplot-style plotting is convenient for quick, exploratory plots, where we don't plan on doing a lot of customization. Lets try to make some plots using the thefts data set!\n"
      ],
      "metadata": {
        "id": "zYjf51W2Liz9"
      }
    },
    {
      "cell_type": "code",
      "source": [
        "plt.plot(thefts['OCC_YEAR'],\n",
        "            thefts['BIKE_COST'])"
      ],
      "metadata": {
        "id": "-Ob6V8ATPsr3"
      },
      "execution_count": null,
      "outputs": []
    },
    {
      "cell_type": "markdown",
      "source": [
        "Let's better use a scatterplot instead with the `scatter()` function. We can use keyword arguments like `facecolor` and `edgecolor` to change the styling."
      ],
      "metadata": {
        "id": "c8RyBUlKP56q"
      }
    },
    {
      "cell_type": "code",
      "source": [
        "plt.scatter(thefts['OCC_YEAR'],\n",
        "            thefts['BIKE_COST'],\n",
        "            marker='s',  # square marker\n",
        "            facecolor='#fb1',\n",
        "            edgecolor='k') # black\n"
      ],
      "metadata": {
        "id": "MwRFwDEFLsQi"
      },
      "execution_count": null,
      "outputs": []
    },
    {
      "cell_type": "markdown",
      "source": [
        "Using the pyplot approach, the outputs of successive function calls in the same cell context are layered on."
      ],
      "metadata": {
        "id": "8hFX_PKaQO9J"
      }
    },
    {
      "cell_type": "code",
      "source": [
        "plt.scatter(thefts_filter['OCC_YEAR'],\n",
        "            thefts_filter['REPORT_HOUR'],\n",
        "            edgecolor='k',\n",
        "            label='reported time')\n",
        "\n",
        "plt.scatter(thefts_filter['OCC_YEAR'],\n",
        "            thefts_filter['OCC_HOUR'],\n",
        "            edgecolor='w',\n",
        "            label='occurence time') # black\n",
        "\n",
        "plt.legend()"
      ],
      "metadata": {
        "id": "mhiIQBxgQxos"
      },
      "execution_count": null,
      "outputs": []
    },
    {
      "cell_type": "markdown",
      "source": [
        "## Object-oriented approach to plotting\n",
        "The object-oriented approach is the preferred method of plotting with matplotlib. In this approach, we use the `subplots()` function to create plot objects, then call methods to modify them.\n",
        "\n",
        "By default, `subplots()` returns one Figure and one Axes. We can use Python's unpacking syntax to assign the Figure and Axes to their own variables in one line."
      ],
      "metadata": {
        "id": "ATp_LnRzVqxv"
      }
    },
    {
      "cell_type": "code",
      "source": [
        "fig, ax = plt.subplots()"
      ],
      "metadata": {
        "id": "tM-PUddjbmb7"
      },
      "execution_count": null,
      "outputs": []
    },
    {
      "cell_type": "code",
      "source": [
        "reported_hour = ax.scatter(thefts_filter['OCC_YEAR'],\n",
        "           thefts_filter['REPORT_HOUR'])\n",
        "Occurece_hour = ax.scatter(thefts_filter['OCC_YEAR'],\n",
        "           thefts_filter['OCC_HOUR'])\n",
        "ax.xaxis.set_major_locator(mpl.ticker.MaxNLocator(integer=True)) # to plot years as int values\n",
        "\n",
        "fig"
      ],
      "metadata": {
        "id": "26dRAI45WAtm"
      },
      "execution_count": null,
      "outputs": []
    },
    {
      "cell_type": "markdown",
      "source": [
        "There are ways of adding labels, title, grids, legends, modifying axis and changing styles. We do not have time to cover all this today, but I encourage you to google it and play with your data\n"
      ],
      "metadata": {
        "id": "7EjYwbRScEbq"
      }
    },
    {
      "cell_type": "markdown",
      "source": [
        "### Other plot types\n",
        "Of course,` matplotlib` offers more than just line plots and scatterplots. Among the many kinds of plots we can make are bar plots, histograms, and boxplots. To create each the object-oriented way, we call the appropriate Axes method, like `Axes.boxplot()` or` Axes.barh()`, for a horizontal bar plot."
      ],
      "metadata": {
        "id": "BMtcecVrb9QD"
      }
    },
    {
      "cell_type": "code",
      "source": [
        "# create a histogram\n",
        "hist_fig, hist_ax = plt.subplots()\n",
        "hist_ax.hist(thefts['BIKE_COST'],\n",
        "             bins=range(0, 8000, 1200))\n",
        "hist_ax.set_title('Bike cost')\n"
      ],
      "metadata": {
        "id": "CWRMuKr3eX34"
      },
      "execution_count": null,
      "outputs": []
    },
    {
      "cell_type": "code",
      "source": [
        "# create a box plot\n",
        "box_fig, box_ax = plt.subplots()\n",
        "box_ax.boxplot(thefts['BIKE_COST'],\n",
        "                # add labels so we know which box is which var\n",
        "              labels=['COST'])\n",
        "box_ax.set_title('Bike Costs')"
      ],
      "metadata": {
        "id": "ofSzsOCQb5Ja"
      },
      "execution_count": null,
      "outputs": []
    },
    {
      "cell_type": "code",
      "source": [
        "# create a barplot\n",
        "\n",
        "bar_fig, bar_ax = plt.subplots()\n",
        "bar_ax.barh(thefts_filter['LOCATION_TYPE'],thefts_filter['BIKE_COST'])\n",
        "bar_ax.set_axisbelow(True)\n",
        "bar_ax.grid(alpha=0.3)\n",
        "bar_ax.set_title('Bike price by location type')\n",
        "bar_ax.set_xlabel('Bike price (2009-2012)')\n",
        "\n",
        "\n"
      ],
      "metadata": {
        "id": "KERrhxfgfAwo"
      },
      "execution_count": null,
      "outputs": []
    },
    {
      "cell_type": "markdown",
      "source": [
        "### More complex plots\n",
        "Let's try plotting the number of reported bike thefts each year by whether the bike was recovered or not. We'll need to wrangle the theft data a bit to get counts by year and status. Then, we'll use the data to make a` stackplot()`.\n",
        "\n"
      ],
      "metadata": {
        "id": "DZFihrpoglAR"
      }
    },
    {
      "cell_type": "code",
      "source": [
        "# review the available columns\n",
        "thefts.columns\n"
      ],
      "metadata": {
        "id": "6FLiCGHGhN6a"
      },
      "execution_count": null,
      "outputs": []
    },
    {
      "cell_type": "code",
      "source": [
        "thefts_grouped = (thefts\n",
        "                  .groupby(['OCC_YEAR', 'STATUS'])\n",
        "                  .agg(thefts=('_id', 'count'))\n",
        "                  .reset_index()\n",
        "                  .pivot(index='OCC_YEAR', columns='STATUS', values='thefts')\n",
        "                  .reset_index()  # ...and again\n",
        "                  .fillna(0)  # make occurrence year a regular col\n",
        "                  )\n",
        "\n",
        "thefts_grouped"
      ],
      "metadata": {
        "id": "rzai48NuhcOW"
      },
      "execution_count": null,
      "outputs": []
    },
    {
      "cell_type": "code",
      "source": [
        "stfig, stax = plt.subplots()\n",
        "\n",
        "stax.stackplot(thefts_grouped['OCC_YEAR'], thefts_grouped['STOLEN'],\n",
        "        thefts_grouped['RECOVERED'], thefts_grouped['UNKNOWN'],\n",
        "       labels=['Stolen', 'Recovered', 'Unknown'])\n",
        "stax.set_axisbelow(True)\n",
        "stax.grid(alpha=0.3)\n",
        "stax.legend(loc='upper left')\n",
        "stax.set_title('Reported Bike Thefts by Recovery Status')\n",
        "stax.set_ylabel('Reported Thefts')\n",
        "stax.set_xlabel('Year')"
      ],
      "metadata": {
        "id": "Q1Bgo8gRknP9"
      },
      "execution_count": null,
      "outputs": []
    },
    {
      "cell_type": "code",
      "source": [
        "import matplotlib.pyplot as plt\n",
        "import seaborn as sns\n",
        "\n",
        "years = range(2000, 2012)\n",
        "apples = [0.895, 0.91, 0.919, 0.926, 0.929, 0.931, 0.934, 0.936, 0.937, 0.9375, 0.9372, 0.939]\n",
        "oranges = [0.962, 0.941, 0.930, 0.923, 0.918, 0.908, 0.907, 0.904, 0.901, 0.898, 0.9, 0.896, ]\n",
        "\n",
        "sns.set_style(\"whitegrid\")\n",
        "plt.plot(years, apples, 's-b')\n",
        "plt.plot(years, oranges, 'o--r')\n",
        "\n",
        "plt.xlabel('Year')\n",
        "plt.ylabel('Yield (tons per hectare)')\n",
        "\n",
        "plt.title(\"Crop Yields in Kanto\")\n",
        "plt.legend(['Apples', 'Oranges']);\n"
      ],
      "metadata": {
        "id": "msZ1jyYwFT7o"
      },
      "execution_count": null,
      "outputs": []
    }
  ]
}